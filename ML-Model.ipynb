{
 "cells": [
  {
   "cell_type": "code",
   "execution_count": 1,
   "id": "3976c2fd",
   "metadata": {},
   "outputs": [
    {
     "name": "stdout",
     "output_type": "stream",
     "text": [
      "Requirement already satisfied: seaborn in c:\\users\\satyam dubey\\appdata\\local\\programs\\python\\python310\\lib\\site-packages (0.11.2)\n",
      "Requirement already satisfied: matplotlib>=2.2 in c:\\users\\satyam dubey\\appdata\\local\\programs\\python\\python310\\lib\\site-packages (from seaborn) (3.5.2)\n",
      "Requirement already satisfied: scipy>=1.0 in c:\\users\\satyam dubey\\appdata\\local\\programs\\python\\python310\\lib\\site-packages (from seaborn) (1.9.0)\n",
      "Requirement already satisfied: numpy>=1.15 in c:\\users\\satyam dubey\\appdata\\local\\programs\\python\\python310\\lib\\site-packages (from seaborn) (1.22.3)\n",
      "Requirement already satisfied: pandas>=0.23 in c:\\users\\satyam dubey\\appdata\\local\\programs\\python\\python310\\lib\\site-packages (from seaborn) (1.4.3)\n",
      "Requirement already satisfied: fonttools>=4.22.0 in c:\\users\\satyam dubey\\appdata\\local\\programs\\python\\python310\\lib\\site-packages (from matplotlib>=2.2->seaborn) (4.33.3)\n",
      "Requirement already satisfied: cycler>=0.10 in c:\\users\\satyam dubey\\appdata\\local\\programs\\python\\python310\\lib\\site-packages (from matplotlib>=2.2->seaborn) (0.11.0)\n",
      "Requirement already satisfied: pyparsing>=2.2.1 in c:\\users\\satyam dubey\\appdata\\local\\programs\\python\\python310\\lib\\site-packages (from matplotlib>=2.2->seaborn) (3.0.8)\n",
      "Requirement already satisfied: kiwisolver>=1.0.1 in c:\\users\\satyam dubey\\appdata\\local\\programs\\python\\python310\\lib\\site-packages (from matplotlib>=2.2->seaborn) (1.4.3)\n",
      "Requirement already satisfied: python-dateutil>=2.7 in c:\\users\\satyam dubey\\appdata\\local\\programs\\python\\python310\\lib\\site-packages (from matplotlib>=2.2->seaborn) (2.8.2)\n",
      "Requirement already satisfied: packaging>=20.0 in c:\\users\\satyam dubey\\appdata\\local\\programs\\python\\python310\\lib\\site-packages (from matplotlib>=2.2->seaborn) (21.3)\n",
      "Requirement already satisfied: pillow>=6.2.0 in c:\\users\\satyam dubey\\appdata\\local\\programs\\python\\python310\\lib\\site-packages (from matplotlib>=2.2->seaborn) (9.1.1)\n",
      "Requirement already satisfied: pytz>=2020.1 in c:\\users\\satyam dubey\\appdata\\local\\programs\\python\\python310\\lib\\site-packages (from pandas>=0.23->seaborn) (2022.1)\n",
      "Requirement already satisfied: six>=1.5 in c:\\users\\satyam dubey\\appdata\\local\\programs\\python\\python310\\lib\\site-packages (from python-dateutil>=2.7->matplotlib>=2.2->seaborn) (1.16.0)\n",
      "Note: you may need to restart the kernel to use updated packages.\n"
     ]
    }
   ],
   "source": [
    "pip install seaborn"
   ]
  },
  {
   "cell_type": "code",
   "execution_count": 2,
   "id": "5c9af95f",
   "metadata": {},
   "outputs": [
    {
     "name": "stdout",
     "output_type": "stream",
     "text": [
      "Requirement already satisfied: scikit-learn in c:\\users\\satyam dubey\\appdata\\local\\programs\\python\\python310\\lib\\site-packages (1.1.2)\n",
      "Requirement already satisfied: threadpoolctl>=2.0.0 in c:\\users\\satyam dubey\\appdata\\local\\programs\\python\\python310\\lib\\site-packages (from scikit-learn) (3.1.0)\n",
      "Requirement already satisfied: scipy>=1.3.2 in c:\\users\\satyam dubey\\appdata\\local\\programs\\python\\python310\\lib\\site-packages (from scikit-learn) (1.9.0)\n",
      "Requirement already satisfied: joblib>=1.0.0 in c:\\users\\satyam dubey\\appdata\\local\\programs\\python\\python310\\lib\\site-packages (from scikit-learn) (1.2.0)\n",
      "Requirement already satisfied: numpy>=1.17.3 in c:\\users\\satyam dubey\\appdata\\local\\programs\\python\\python310\\lib\\site-packages (from scikit-learn) (1.22.3)\n",
      "Note: you may need to restart the kernel to use updated packages.\n"
     ]
    }
   ],
   "source": [
    "pip install scikit-learn"
   ]
  },
  {
   "cell_type": "code",
   "execution_count": 3,
   "id": "e39ff1e3",
   "metadata": {},
   "outputs": [],
   "source": [
    "\n",
    "import pandas as pd\n",
    "import numpy as np\n",
    "import matplotlib.pyplot as plt\n",
    "import seaborn as sns\n",
    "from sklearn.metrics import classification_report\n",
    "from sklearn import metrics\n",
    "from sklearn import tree\n",
    "import warnings\n",
    "warnings.filterwarnings('ignore')"
   ]
  },
  {
   "cell_type": "code",
   "execution_count": 4,
   "id": "7426aadc",
   "metadata": {},
   "outputs": [],
   "source": [
    "#PATH = 'covid_19_in_education.xlsx'\n",
    "df = pd.read_csv('covid_19_in_education.csv')"
   ]
  },
  {
   "cell_type": "code",
   "execution_count": 5,
   "id": "119cfc6a",
   "metadata": {},
   "outputs": [
    {
     "data": {
      "text/html": [
       "<div>\n",
       "<style scoped>\n",
       "    .dataframe tbody tr th:only-of-type {\n",
       "        vertical-align: middle;\n",
       "    }\n",
       "\n",
       "    .dataframe tbody tr th {\n",
       "        vertical-align: top;\n",
       "    }\n",
       "\n",
       "    .dataframe thead th {\n",
       "        text-align: right;\n",
       "    }\n",
       "</style>\n",
       "<table border=\"1\" class=\"dataframe\">\n",
       "  <thead>\n",
       "    <tr style=\"text-align: right;\">\n",
       "      <th></th>\n",
       "      <th>submission_id</th>\n",
       "      <th>submission_date</th>\n",
       "      <th>gender</th>\n",
       "      <th>age</th>\n",
       "      <th>geography</th>\n",
       "      <th>financial_situation</th>\n",
       "      <th>education</th>\n",
       "      <th>employment_status</th>\n",
       "      <th>submission_state</th>\n",
       "      <th>can_children_observe_deterioration_of_basic_services_of_school</th>\n",
       "      <th>do_children_3_and_17_yrs_receive_regular_school_meals</th>\n",
       "      <th>are_there_teachers_at_scheduled_class_hours</th>\n",
       "    </tr>\n",
       "  </thead>\n",
       "  <tbody>\n",
       "    <tr>\n",
       "      <th>0</th>\n",
       "      <td>4.570000e+15</td>\n",
       "      <td>17-03-2021</td>\n",
       "      <td>Female</td>\n",
       "      <td>Over 45 years old</td>\n",
       "      <td>Suburban/Peri-urban</td>\n",
       "      <td>I can afford food and regular expenses, but no...</td>\n",
       "      <td>University or college degree completed</td>\n",
       "      <td>I am unemployed</td>\n",
       "      <td>Miranda</td>\n",
       "      <td>1</td>\n",
       "      <td>Every day</td>\n",
       "      <td>Irregularly</td>\n",
       "    </tr>\n",
       "    <tr>\n",
       "      <th>1</th>\n",
       "      <td>6.440000e+15</td>\n",
       "      <td>29-03-2021</td>\n",
       "      <td>Male</td>\n",
       "      <td>26 to 35 years old</td>\n",
       "      <td>Suburban/Peri-urban</td>\n",
       "      <td>I cannot afford enough food for my family</td>\n",
       "      <td>University or college degree completed</td>\n",
       "      <td>I am unemployed</td>\n",
       "      <td>Miranda</td>\n",
       "      <td>1</td>\n",
       "      <td>No</td>\n",
       "      <td>Irregularly</td>\n",
       "    </tr>\n",
       "    <tr>\n",
       "      <th>2</th>\n",
       "      <td>5.000000e+15</td>\n",
       "      <td>18-03-2021</td>\n",
       "      <td>Female</td>\n",
       "      <td>26 to 35 years old</td>\n",
       "      <td>City center or metropolitan area</td>\n",
       "      <td>I can comfortably afford food, clothes, and fu...</td>\n",
       "      <td>University or college degree completed</td>\n",
       "      <td>I work full-time, either as an employee or sel...</td>\n",
       "      <td>Miranda</td>\n",
       "      <td>1</td>\n",
       "      <td>No</td>\n",
       "      <td>There are not enough</td>\n",
       "    </tr>\n",
       "    <tr>\n",
       "      <th>3</th>\n",
       "      <td>5.520000e+15</td>\n",
       "      <td>24-03-2021</td>\n",
       "      <td>Male</td>\n",
       "      <td>36 to 45 years old</td>\n",
       "      <td>Suburban/Peri-urban</td>\n",
       "      <td>I can afford food, but nothing else</td>\n",
       "      <td>University or college degree completed</td>\n",
       "      <td>I work full-time, either as an employee or sel...</td>\n",
       "      <td>Miranda</td>\n",
       "      <td>1</td>\n",
       "      <td>No</td>\n",
       "      <td>There are enough</td>\n",
       "    </tr>\n",
       "    <tr>\n",
       "      <th>4</th>\n",
       "      <td>5.030000e+15</td>\n",
       "      <td>18-03-2021</td>\n",
       "      <td>Female</td>\n",
       "      <td>Over 45 years old</td>\n",
       "      <td>Suburban/Peri-urban</td>\n",
       "      <td>I can afford food and regular expenses, but no...</td>\n",
       "      <td>University or college degree completed</td>\n",
       "      <td>I am unemployed</td>\n",
       "      <td>Miranda</td>\n",
       "      <td>1</td>\n",
       "      <td>No</td>\n",
       "      <td>There are not enough</td>\n",
       "    </tr>\n",
       "  </tbody>\n",
       "</table>\n",
       "</div>"
      ],
      "text/plain": [
       "   submission_id submission_date  gender                 age  \\\n",
       "0   4.570000e+15      17-03-2021  Female   Over 45 years old   \n",
       "1   6.440000e+15      29-03-2021    Male  26 to 35 years old   \n",
       "2   5.000000e+15      18-03-2021  Female  26 to 35 years old   \n",
       "3   5.520000e+15      24-03-2021    Male  36 to 45 years old   \n",
       "4   5.030000e+15      18-03-2021  Female   Over 45 years old   \n",
       "\n",
       "                          geography  \\\n",
       "0               Suburban/Peri-urban   \n",
       "1               Suburban/Peri-urban   \n",
       "2  City center or metropolitan area   \n",
       "3               Suburban/Peri-urban   \n",
       "4               Suburban/Peri-urban   \n",
       "\n",
       "                                 financial_situation  \\\n",
       "0  I can afford food and regular expenses, but no...   \n",
       "1          I cannot afford enough food for my family   \n",
       "2  I can comfortably afford food, clothes, and fu...   \n",
       "3                I can afford food, but nothing else   \n",
       "4  I can afford food and regular expenses, but no...   \n",
       "\n",
       "                                education  \\\n",
       "0  University or college degree completed   \n",
       "1  University or college degree completed   \n",
       "2  University or college degree completed   \n",
       "3  University or college degree completed   \n",
       "4  University or college degree completed   \n",
       "\n",
       "                                   employment_status submission_state  \\\n",
       "0                                    I am unemployed          Miranda   \n",
       "1                                    I am unemployed          Miranda   \n",
       "2  I work full-time, either as an employee or sel...          Miranda   \n",
       "3  I work full-time, either as an employee or sel...          Miranda   \n",
       "4                                    I am unemployed          Miranda   \n",
       "\n",
       "   can_children_observe_deterioration_of_basic_services_of_school  \\\n",
       "0                                                  1                \n",
       "1                                                  1                \n",
       "2                                                  1                \n",
       "3                                                  1                \n",
       "4                                                  1                \n",
       "\n",
       "  do_children_3_and_17_yrs_receive_regular_school_meals  \\\n",
       "0                                          Every day      \n",
       "1                                                 No      \n",
       "2                                                 No      \n",
       "3                                                 No      \n",
       "4                                                 No      \n",
       "\n",
       "  are_there_teachers_at_scheduled_class_hours  \n",
       "0                                 Irregularly  \n",
       "1                                 Irregularly  \n",
       "2                        There are not enough  \n",
       "3                            There are enough  \n",
       "4                        There are not enough  "
      ]
     },
     "execution_count": 5,
     "metadata": {},
     "output_type": "execute_result"
    }
   ],
   "source": [
    "df.head()"
   ]
  },
  {
   "cell_type": "markdown",
   "id": "37d7247c",
   "metadata": {},
   "source": [
    " ##                                                Preprocessing "
   ]
  },
  {
   "cell_type": "markdown",
   "id": "08cc2597",
   "metadata": {},
   "source": [
    "deleting unnecessary columns"
   ]
  },
  {
   "cell_type": "code",
   "execution_count": 6,
   "id": "cb0c145a",
   "metadata": {},
   "outputs": [
    {
     "name": "stdout",
     "output_type": "stream",
     "text": [
      "['Suburban/Peri-urban' 'City center or metropolitan area' 'Rural'\n",
      " 'Not Available']\n",
      "\n",
      "['Over 45 years old' '26 to 35 years old' '36 to 45 years old'\n",
      " '16 to 25 years old' 'Under 16' 'Not Available']\n",
      "\n",
      "['University or college degree completed'\n",
      " 'Technical school diploma or degree completed'\n",
      " 'Some technical education (e.g polytechnic school)'\n",
      " 'Some university or college' 'Secondary school/ high school completed'\n",
      " 'Primary school completed' 'Some primary education'\n",
      " 'Some secondary school / high school' 'Post-graduate education'\n",
      " 'Prefer not to answer' 'No formal education' 'Not available'\n",
      " 'College or university' 'Post graduate' 'Technical school'\n",
      " 'Secondary/high school']\n",
      "\n",
      "['I am unemployed'\n",
      " 'I work full-time, either as an employee or self-employed'\n",
      " 'I do housework, fulfilling domestic tasks, looking after children'\n",
      " 'I work part-time, either as an employee or self-employed' 'I am retired'\n",
      " 'I am a student and I work part-time' 'I am a student'\n",
      " 'None of the above' 'I am doing community or military service'\n",
      " 'I am unable to work due to long-term illness or disability'\n",
      " 'Not Available' 'Employed full-time' 'Retired' 'Student' 'Unemployed']\n"
     ]
    }
   ],
   "source": [
    "print(df['geography'].unique())\n",
    "print()\n",
    "print(df['age'].unique())\n",
    "print()\n",
    "print(df['education'].unique())\n",
    "print()\n",
    "print(df['employment_status'].unique())"
   ]
  },
  {
   "cell_type": "code",
   "execution_count": 7,
   "id": "b15d4fd5",
   "metadata": {},
   "outputs": [],
   "source": [
    "df = df.drop('submission_id', axis=1)\n",
    "df = df.drop('submission_date', axis=1)\n",
    "# # df = df.drop('Unnamed: 9', axis=1)"
   ]
  },
  {
   "cell_type": "code",
   "execution_count": 8,
   "id": "b0cdf879",
   "metadata": {},
   "outputs": [
    {
     "data": {
      "text/html": [
       "<div>\n",
       "<style scoped>\n",
       "    .dataframe tbody tr th:only-of-type {\n",
       "        vertical-align: middle;\n",
       "    }\n",
       "\n",
       "    .dataframe tbody tr th {\n",
       "        vertical-align: top;\n",
       "    }\n",
       "\n",
       "    .dataframe thead th {\n",
       "        text-align: right;\n",
       "    }\n",
       "</style>\n",
       "<table border=\"1\" class=\"dataframe\">\n",
       "  <thead>\n",
       "    <tr style=\"text-align: right;\">\n",
       "      <th></th>\n",
       "      <th>gender</th>\n",
       "      <th>age</th>\n",
       "      <th>geography</th>\n",
       "      <th>financial_situation</th>\n",
       "      <th>education</th>\n",
       "      <th>employment_status</th>\n",
       "      <th>submission_state</th>\n",
       "      <th>can_children_observe_deterioration_of_basic_services_of_school</th>\n",
       "      <th>do_children_3_and_17_yrs_receive_regular_school_meals</th>\n",
       "      <th>are_there_teachers_at_scheduled_class_hours</th>\n",
       "    </tr>\n",
       "  </thead>\n",
       "  <tbody>\n",
       "    <tr>\n",
       "      <th>0</th>\n",
       "      <td>Female</td>\n",
       "      <td>Over 45 years old</td>\n",
       "      <td>Suburban/Peri-urban</td>\n",
       "      <td>I can afford food and regular expenses, but no...</td>\n",
       "      <td>University or college degree completed</td>\n",
       "      <td>I am unemployed</td>\n",
       "      <td>Miranda</td>\n",
       "      <td>1</td>\n",
       "      <td>Every day</td>\n",
       "      <td>Irregularly</td>\n",
       "    </tr>\n",
       "    <tr>\n",
       "      <th>1</th>\n",
       "      <td>Male</td>\n",
       "      <td>26 to 35 years old</td>\n",
       "      <td>Suburban/Peri-urban</td>\n",
       "      <td>I cannot afford enough food for my family</td>\n",
       "      <td>University or college degree completed</td>\n",
       "      <td>I am unemployed</td>\n",
       "      <td>Miranda</td>\n",
       "      <td>1</td>\n",
       "      <td>No</td>\n",
       "      <td>Irregularly</td>\n",
       "    </tr>\n",
       "    <tr>\n",
       "      <th>2</th>\n",
       "      <td>Female</td>\n",
       "      <td>26 to 35 years old</td>\n",
       "      <td>City center or metropolitan area</td>\n",
       "      <td>I can comfortably afford food, clothes, and fu...</td>\n",
       "      <td>University or college degree completed</td>\n",
       "      <td>I work full-time, either as an employee or sel...</td>\n",
       "      <td>Miranda</td>\n",
       "      <td>1</td>\n",
       "      <td>No</td>\n",
       "      <td>There are not enough</td>\n",
       "    </tr>\n",
       "    <tr>\n",
       "      <th>3</th>\n",
       "      <td>Male</td>\n",
       "      <td>36 to 45 years old</td>\n",
       "      <td>Suburban/Peri-urban</td>\n",
       "      <td>I can afford food, but nothing else</td>\n",
       "      <td>University or college degree completed</td>\n",
       "      <td>I work full-time, either as an employee or sel...</td>\n",
       "      <td>Miranda</td>\n",
       "      <td>1</td>\n",
       "      <td>No</td>\n",
       "      <td>There are enough</td>\n",
       "    </tr>\n",
       "    <tr>\n",
       "      <th>4</th>\n",
       "      <td>Female</td>\n",
       "      <td>Over 45 years old</td>\n",
       "      <td>Suburban/Peri-urban</td>\n",
       "      <td>I can afford food and regular expenses, but no...</td>\n",
       "      <td>University or college degree completed</td>\n",
       "      <td>I am unemployed</td>\n",
       "      <td>Miranda</td>\n",
       "      <td>1</td>\n",
       "      <td>No</td>\n",
       "      <td>There are not enough</td>\n",
       "    </tr>\n",
       "  </tbody>\n",
       "</table>\n",
       "</div>"
      ],
      "text/plain": [
       "   gender                 age                         geography  \\\n",
       "0  Female   Over 45 years old               Suburban/Peri-urban   \n",
       "1    Male  26 to 35 years old               Suburban/Peri-urban   \n",
       "2  Female  26 to 35 years old  City center or metropolitan area   \n",
       "3    Male  36 to 45 years old               Suburban/Peri-urban   \n",
       "4  Female   Over 45 years old               Suburban/Peri-urban   \n",
       "\n",
       "                                 financial_situation  \\\n",
       "0  I can afford food and regular expenses, but no...   \n",
       "1          I cannot afford enough food for my family   \n",
       "2  I can comfortably afford food, clothes, and fu...   \n",
       "3                I can afford food, but nothing else   \n",
       "4  I can afford food and regular expenses, but no...   \n",
       "\n",
       "                                education  \\\n",
       "0  University or college degree completed   \n",
       "1  University or college degree completed   \n",
       "2  University or college degree completed   \n",
       "3  University or college degree completed   \n",
       "4  University or college degree completed   \n",
       "\n",
       "                                   employment_status submission_state  \\\n",
       "0                                    I am unemployed          Miranda   \n",
       "1                                    I am unemployed          Miranda   \n",
       "2  I work full-time, either as an employee or sel...          Miranda   \n",
       "3  I work full-time, either as an employee or sel...          Miranda   \n",
       "4                                    I am unemployed          Miranda   \n",
       "\n",
       "   can_children_observe_deterioration_of_basic_services_of_school  \\\n",
       "0                                                  1                \n",
       "1                                                  1                \n",
       "2                                                  1                \n",
       "3                                                  1                \n",
       "4                                                  1                \n",
       "\n",
       "  do_children_3_and_17_yrs_receive_regular_school_meals  \\\n",
       "0                                          Every day      \n",
       "1                                                 No      \n",
       "2                                                 No      \n",
       "3                                                 No      \n",
       "4                                                 No      \n",
       "\n",
       "  are_there_teachers_at_scheduled_class_hours  \n",
       "0                                 Irregularly  \n",
       "1                                 Irregularly  \n",
       "2                        There are not enough  \n",
       "3                            There are enough  \n",
       "4                        There are not enough  "
      ]
     },
     "execution_count": 8,
     "metadata": {},
     "output_type": "execute_result"
    }
   ],
   "source": [
    "df.head()"
   ]
  },
  {
   "cell_type": "markdown",
   "id": "e8c3351f",
   "metadata": {},
   "source": [
    "finding unique values in \"age\" column"
   ]
  },
  {
   "cell_type": "markdown",
   "id": "b3a467e8",
   "metadata": {},
   "source": [
    "## outliers detection"
   ]
  },
  {
   "cell_type": "code",
   "execution_count": 9,
   "id": "bec4cc77",
   "metadata": {},
   "outputs": [],
   "source": [
    "df['gender'].value_counts()\n",
    "## since female is the highest so we replace the unavailable values with the max values.\n",
    "df.loc[df[\"gender\"] == \"Not Available\", \"gender\"] = 'Female'"
   ]
  },
  {
   "cell_type": "markdown",
   "id": "c0ddcd9f",
   "metadata": {},
   "source": [
    "**AGE**"
   ]
  },
  {
   "cell_type": "code",
   "execution_count": 10,
   "id": "29caed9f",
   "metadata": {},
   "outputs": [
    {
     "data": {
      "text/plain": [
       "26 to 35 years old    1304\n",
       "16 to 25 years old    1302\n",
       "36 to 45 years old    1087\n",
       "Over 45 years old      739\n",
       "Not Available            3\n",
       "Under 16                 1\n",
       "Name: age, dtype: int64"
      ]
     },
     "execution_count": 10,
     "metadata": {},
     "output_type": "execute_result"
    }
   ],
   "source": [
    "df['age'].value_counts()"
   ]
  },
  {
   "cell_type": "code",
   "execution_count": 11,
   "id": "dd82ae35",
   "metadata": {},
   "outputs": [],
   "source": [
    "df.loc[df[\"age\"] == \"Not Available\", \"age\"] = '26 to 35 years old'\n",
    "df.loc[df[\"age\"] == \"Under 16 \", \"age\"] = '26 to 35 years old'"
   ]
  },
  {
   "cell_type": "markdown",
   "id": "8777654d",
   "metadata": {},
   "source": [
    "**Geography**"
   ]
  },
  {
   "cell_type": "code",
   "execution_count": 12,
   "id": "921a4e5a",
   "metadata": {},
   "outputs": [
    {
     "data": {
      "text/plain": [
       "City center or metropolitan area    1920\n",
       "Suburban/Peri-urban                 1374\n",
       "Rural                               1141\n",
       "Not Available                          1\n",
       "Name: geography, dtype: int64"
      ]
     },
     "execution_count": 12,
     "metadata": {},
     "output_type": "execute_result"
    }
   ],
   "source": [
    "df['geography'].value_counts()"
   ]
  },
  {
   "cell_type": "code",
   "execution_count": 13,
   "id": "6b2f3c17",
   "metadata": {},
   "outputs": [],
   "source": [
    "df.loc[df[\"geography\"] == \"Not Available\", 'geography'] = 'City center or metropolitan area'"
   ]
  },
  {
   "cell_type": "markdown",
   "id": "c4dc8340",
   "metadata": {},
   "source": [
    "**Financial Situation**"
   ]
  },
  {
   "cell_type": "code",
   "execution_count": 14,
   "id": "be13eb09",
   "metadata": {},
   "outputs": [
    {
     "data": {
      "text/plain": [
       "I can afford food, but nothing else                                                1445\n",
       "I cannot afford enough food for my family                                          1163\n",
       "I can afford food and regular expenses, but nothing else                           1060\n",
       "I can afford food, regular expenses, and clothes, but nothing else                  244\n",
       "Prefer not to answer                                                                239\n",
       "I can comfortably afford food, clothes, and furniture, and I have savings           157\n",
       "I can comfortably afford food, clothes, and furniture, but I don’t have savings     127\n",
       "Not Available                                                                         1\n",
       "Name: financial_situation, dtype: int64"
      ]
     },
     "execution_count": 14,
     "metadata": {},
     "output_type": "execute_result"
    }
   ],
   "source": [
    "df['financial_situation'].value_counts()"
   ]
  },
  {
   "cell_type": "code",
   "execution_count": 15,
   "id": "39c0ebb6",
   "metadata": {},
   "outputs": [],
   "source": [
    "df.loc[df[\"financial_situation\"] == \"Not Available\", \"financial_situation\"] = 'I can afford food, but nothing else'"
   ]
  },
  {
   "cell_type": "markdown",
   "id": "dbb2fe9a",
   "metadata": {},
   "source": [
    "**Education**"
   ]
  },
  {
   "cell_type": "code",
   "execution_count": 16,
   "id": "d69e22a7",
   "metadata": {},
   "outputs": [
    {
     "data": {
      "text/plain": [
       "University or college degree completed               1327\n",
       "Secondary school/ high school completed              1089\n",
       "Technical school diploma or degree completed          580\n",
       "Some university or college                            379\n",
       "Some technical education (e.g polytechnic school)     322\n",
       "Some secondary school / high school                   279\n",
       "Post-graduate education                               241\n",
       "Primary school completed                               98\n",
       "Prefer not to answer                                   58\n",
       "Some primary education                                 36\n",
       "No formal education                                    20\n",
       "College or university                                   3\n",
       "Not available                                           1\n",
       "Post graduate                                           1\n",
       "Technical school                                        1\n",
       "Secondary/high school                                   1\n",
       "Name: education, dtype: int64"
      ]
     },
     "execution_count": 16,
     "metadata": {},
     "output_type": "execute_result"
    }
   ],
   "source": [
    "df['education'].value_counts()"
   ]
  },
  {
   "cell_type": "code",
   "execution_count": 61,
   "id": "48dcca7b",
   "metadata": {},
   "outputs": [
    {
     "data": {
      "text/plain": [
       "10    1332\n",
       "4     1089\n",
       "9      581\n",
       "8      379\n",
       "7      322\n",
       "6      280\n",
       "1      241\n",
       "3       98\n",
       "2       58\n",
       "5       36\n",
       "0       20\n",
       "Name: education, dtype: int64"
      ]
     },
     "execution_count": 61,
     "metadata": {},
     "output_type": "execute_result"
    }
   ],
   "source": [
    "df.loc[df[\"education\"] == \"Not available\", \"education\"] = 'University or college degree completed'\n",
    "df.loc[df[\"education\"] == \"College or university\", \"education\"] = 'University or college degree completed'\n",
    "df.loc[df[\"education\"] == \"Post graduate\", \"education\"] = 'University or college degree completed'\n",
    "df.loc[df[\"education\"] == \"Technical school\", \"education\"] = 'Technical school diploma or degree completed'\n",
    "df.loc[df[\"education\"] == \"Secondary/high school\", \"education\"] = 'Some secondary school / high school'\n",
    "df['education'].value_counts()"
   ]
  },
  {
   "cell_type": "markdown",
   "id": "41281158",
   "metadata": {},
   "source": [
    "**Employment Status**"
   ]
  },
  {
   "cell_type": "code",
   "execution_count": 18,
   "id": "f35a21ec",
   "metadata": {},
   "outputs": [
    {
     "data": {
      "text/plain": [
       "I work part-time, either as an employee or self-employed             1130\n",
       "I work full-time, either as an employee or self-employed             1038\n",
       "I am unemployed                                                       618\n",
       "I am a student                                                        594\n",
       "I am a student and I work part-time                                   379\n",
       "I do housework, fulfilling domestic tasks, looking after children     356\n",
       "None of the above                                                     165\n",
       "I am retired                                                          120\n",
       "I am unable to work due to long-term illness or disability             16\n",
       "I am doing community or military service                               13\n",
       "Employed full-time                                                      3\n",
       "Not Available                                                           1\n",
       "Retired                                                                 1\n",
       "Student                                                                 1\n",
       "Unemployed                                                              1\n",
       "Name: employment_status, dtype: int64"
      ]
     },
     "execution_count": 18,
     "metadata": {},
     "output_type": "execute_result"
    }
   ],
   "source": [
    "df['employment_status'].value_counts()"
   ]
  },
  {
   "cell_type": "code",
   "execution_count": 62,
   "id": "40f11843",
   "metadata": {},
   "outputs": [
    {
     "data": {
      "text/plain": [
       "8    1131\n",
       "7    1041\n",
       "5     619\n",
       "0     596\n",
       "1     379\n",
       "6     356\n",
       "9     165\n",
       "3     120\n",
       "4      16\n",
       "2      13\n",
       "Name: employment_status, dtype: int64"
      ]
     },
     "execution_count": 62,
     "metadata": {},
     "output_type": "execute_result"
    }
   ],
   "source": [
    "df.loc[df[\"employment_status\"] == \"Not Available\", \"employment_status\"] = 'I work part-time, either as an employee or self-employed'\n",
    "df.loc[df[\"employment_status\"] == \"Retired\", \"employment_status\"] = 'I am unemployed'\n",
    "df.loc[df[\"employment_status\"] == \"Student\", \"employment_status\"] = 'I am a student'\n",
    "df.loc[df[\"employment_status\"] == \"Unemployed\", \"employment_status\"] = 'I am a student'\n",
    "df.loc[df[\"employment_status\"] == \"Employed full-time\", \"employment_status\"] = 'I work full-time, either as an employee or self-employed'\n",
    "df['employment_status'].value_counts()"
   ]
  },
  {
   "cell_type": "markdown",
   "id": "84c8a679",
   "metadata": {},
   "source": [
    "**Submission State**"
   ]
  },
  {
   "cell_type": "code",
   "execution_count": 20,
   "id": "cb8b5075",
   "metadata": {},
   "outputs": [
    {
     "data": {
      "text/plain": [
       "Miranda             732\n",
       "Zulia               611\n",
       "Distrito Federal    556\n",
       "Táchira             462\n",
       "Lara                354\n",
       "Anzoátegui          346\n",
       "Bolívar             245\n",
       "Aragua              169\n",
       "Sucre               164\n",
       "Carabobo            161\n",
       "Mérida               91\n",
       "Falcón               67\n",
       "Monagas              66\n",
       "Guárico              58\n",
       "Apure                54\n",
       "Portuguesa           54\n",
       "Trujillo             53\n",
       "Yaracuy              48\n",
       "Vargas               46\n",
       "Nueva Esparta        38\n",
       "Barinas              32\n",
       "Cojedes              18\n",
       "Delta Amacuro         9\n",
       "Amazonas              2\n",
       "Name: submission_state, dtype: int64"
      ]
     },
     "execution_count": 20,
     "metadata": {},
     "output_type": "execute_result"
    }
   ],
   "source": [
    "df['submission_state'].value_counts()"
   ]
  },
  {
   "cell_type": "markdown",
   "id": "5df5251f",
   "metadata": {},
   "source": [
    "*************************************************************************************************************************"
   ]
  },
  {
   "cell_type": "code",
   "execution_count": 21,
   "id": "9aa2476f",
   "metadata": {},
   "outputs": [
    {
     "name": "stdout",
     "output_type": "stream",
     "text": [
      "No.of.unique values : 5\n"
     ]
    }
   ],
   "source": [
    "n = len(pd.unique(df['age']))\n",
    "print(\"No.of.unique values :\",n)"
   ]
  },
  {
   "cell_type": "code",
   "execution_count": 22,
   "id": "ba013833",
   "metadata": {},
   "outputs": [
    {
     "name": "stdout",
     "output_type": "stream",
     "text": [
      "['16 to 25 years old', '26 to 35 years old', '36 to 45 years old', 'Over 45 years old', 'Under 16']\n"
     ]
    }
   ],
   "source": [
    "a = df['age'].unique()\n",
    "print(sorted(a))"
   ]
  },
  {
   "cell_type": "code",
   "execution_count": 23,
   "id": "e0074a20",
   "metadata": {},
   "outputs": [
    {
     "data": {
      "text/html": [
       "<div>\n",
       "<style scoped>\n",
       "    .dataframe tbody tr th:only-of-type {\n",
       "        vertical-align: middle;\n",
       "    }\n",
       "\n",
       "    .dataframe tbody tr th {\n",
       "        vertical-align: top;\n",
       "    }\n",
       "\n",
       "    .dataframe thead th {\n",
       "        text-align: right;\n",
       "    }\n",
       "</style>\n",
       "<table border=\"1\" class=\"dataframe\">\n",
       "  <thead>\n",
       "    <tr style=\"text-align: right;\">\n",
       "      <th></th>\n",
       "      <th>gender</th>\n",
       "      <th>age</th>\n",
       "      <th>geography</th>\n",
       "      <th>financial_situation</th>\n",
       "      <th>education</th>\n",
       "      <th>employment_status</th>\n",
       "      <th>submission_state</th>\n",
       "      <th>can_children_observe_deterioration_of_basic_services_of_school</th>\n",
       "      <th>do_children_3_and_17_yrs_receive_regular_school_meals</th>\n",
       "      <th>are_there_teachers_at_scheduled_class_hours</th>\n",
       "    </tr>\n",
       "  </thead>\n",
       "  <tbody>\n",
       "    <tr>\n",
       "      <th>0</th>\n",
       "      <td>Female</td>\n",
       "      <td>Over 45 years old</td>\n",
       "      <td>Suburban/Peri-urban</td>\n",
       "      <td>I can afford food and regular expenses, but no...</td>\n",
       "      <td>University or college degree completed</td>\n",
       "      <td>I am unemployed</td>\n",
       "      <td>Miranda</td>\n",
       "      <td>1</td>\n",
       "      <td>Every day</td>\n",
       "      <td>Irregularly</td>\n",
       "    </tr>\n",
       "    <tr>\n",
       "      <th>1</th>\n",
       "      <td>Male</td>\n",
       "      <td>26 to 35 years old</td>\n",
       "      <td>Suburban/Peri-urban</td>\n",
       "      <td>I cannot afford enough food for my family</td>\n",
       "      <td>University or college degree completed</td>\n",
       "      <td>I am unemployed</td>\n",
       "      <td>Miranda</td>\n",
       "      <td>1</td>\n",
       "      <td>No</td>\n",
       "      <td>Irregularly</td>\n",
       "    </tr>\n",
       "    <tr>\n",
       "      <th>2</th>\n",
       "      <td>Female</td>\n",
       "      <td>26 to 35 years old</td>\n",
       "      <td>City center or metropolitan area</td>\n",
       "      <td>I can comfortably afford food, clothes, and fu...</td>\n",
       "      <td>University or college degree completed</td>\n",
       "      <td>I work full-time, either as an employee or sel...</td>\n",
       "      <td>Miranda</td>\n",
       "      <td>1</td>\n",
       "      <td>No</td>\n",
       "      <td>There are not enough</td>\n",
       "    </tr>\n",
       "    <tr>\n",
       "      <th>3</th>\n",
       "      <td>Male</td>\n",
       "      <td>36 to 45 years old</td>\n",
       "      <td>Suburban/Peri-urban</td>\n",
       "      <td>I can afford food, but nothing else</td>\n",
       "      <td>University or college degree completed</td>\n",
       "      <td>I work full-time, either as an employee or sel...</td>\n",
       "      <td>Miranda</td>\n",
       "      <td>1</td>\n",
       "      <td>No</td>\n",
       "      <td>There are enough</td>\n",
       "    </tr>\n",
       "    <tr>\n",
       "      <th>4</th>\n",
       "      <td>Female</td>\n",
       "      <td>Over 45 years old</td>\n",
       "      <td>Suburban/Peri-urban</td>\n",
       "      <td>I can afford food and regular expenses, but no...</td>\n",
       "      <td>University or college degree completed</td>\n",
       "      <td>I am unemployed</td>\n",
       "      <td>Miranda</td>\n",
       "      <td>1</td>\n",
       "      <td>No</td>\n",
       "      <td>There are not enough</td>\n",
       "    </tr>\n",
       "  </tbody>\n",
       "</table>\n",
       "</div>"
      ],
      "text/plain": [
       "   gender                 age                         geography  \\\n",
       "0  Female   Over 45 years old               Suburban/Peri-urban   \n",
       "1    Male  26 to 35 years old               Suburban/Peri-urban   \n",
       "2  Female  26 to 35 years old  City center or metropolitan area   \n",
       "3    Male  36 to 45 years old               Suburban/Peri-urban   \n",
       "4  Female   Over 45 years old               Suburban/Peri-urban   \n",
       "\n",
       "                                 financial_situation  \\\n",
       "0  I can afford food and regular expenses, but no...   \n",
       "1          I cannot afford enough food for my family   \n",
       "2  I can comfortably afford food, clothes, and fu...   \n",
       "3                I can afford food, but nothing else   \n",
       "4  I can afford food and regular expenses, but no...   \n",
       "\n",
       "                                education  \\\n",
       "0  University or college degree completed   \n",
       "1  University or college degree completed   \n",
       "2  University or college degree completed   \n",
       "3  University or college degree completed   \n",
       "4  University or college degree completed   \n",
       "\n",
       "                                   employment_status submission_state  \\\n",
       "0                                    I am unemployed          Miranda   \n",
       "1                                    I am unemployed          Miranda   \n",
       "2  I work full-time, either as an employee or sel...          Miranda   \n",
       "3  I work full-time, either as an employee or sel...          Miranda   \n",
       "4                                    I am unemployed          Miranda   \n",
       "\n",
       "   can_children_observe_deterioration_of_basic_services_of_school  \\\n",
       "0                                                  1                \n",
       "1                                                  1                \n",
       "2                                                  1                \n",
       "3                                                  1                \n",
       "4                                                  1                \n",
       "\n",
       "  do_children_3_and_17_yrs_receive_regular_school_meals  \\\n",
       "0                                          Every day      \n",
       "1                                                 No      \n",
       "2                                                 No      \n",
       "3                                                 No      \n",
       "4                                                 No      \n",
       "\n",
       "  are_there_teachers_at_scheduled_class_hours  \n",
       "0                                 Irregularly  \n",
       "1                                 Irregularly  \n",
       "2                        There are not enough  \n",
       "3                            There are enough  \n",
       "4                        There are not enough  "
      ]
     },
     "execution_count": 23,
     "metadata": {},
     "output_type": "execute_result"
    }
   ],
   "source": [
    "df.head()"
   ]
  },
  {
   "cell_type": "code",
   "execution_count": 24,
   "id": "45194286",
   "metadata": {
    "scrolled": false
   },
   "outputs": [
    {
     "name": "stdout",
     "output_type": "stream",
     "text": [
      "gender                                                            object\n",
      "age                                                               object\n",
      "geography                                                         object\n",
      "financial_situation                                               object\n",
      "education                                                         object\n",
      "employment_status                                                 object\n",
      "submission_state                                                  object\n",
      "can_children_observe_deterioration_of_basic_services_of_school     int64\n",
      "do_children_3_and_17_yrs_receive_regular_school_meals             object\n",
      "are_there_teachers_at_scheduled_class_hours                       object\n",
      "dtype: object\n"
     ]
    }
   ],
   "source": [
    "#df['gender'] = int(df['gender'])\n",
    "print (df.dtypes)"
   ]
  },
  {
   "cell_type": "code",
   "execution_count": 25,
   "id": "77ae477e",
   "metadata": {},
   "outputs": [
    {
     "name": "stdout",
     "output_type": "stream",
     "text": [
      "No.of.unique values : 7\n",
      "\n",
      "['I can afford food and regular expenses, but nothing else', 'I can afford food, but nothing else', 'I can afford food, regular expenses, and clothes, but nothing else', 'I can comfortably afford food, clothes, and furniture, and I have savings', 'I can comfortably afford food, clothes, and furniture, but I don’t have savings', 'I cannot afford enough food for my family', 'Prefer not to answer']\n"
     ]
    }
   ],
   "source": [
    "n = len(pd.unique(df['financial_situation']))\n",
    "print(\"No.of.unique values :\",n)\n",
    "\n",
    "print()\n",
    "\n",
    "a = df['financial_situation'].unique()\n",
    "print(sorted(a))"
   ]
  },
  {
   "cell_type": "code",
   "execution_count": 26,
   "id": "3ceb9425",
   "metadata": {},
   "outputs": [
    {
     "name": "stdout",
     "output_type": "stream",
     "text": [
      "No.of.unique values : 4\n",
      "\n",
      "['Female', 'Male', 'Non-Binary', 'Prefer not to answer']\n"
     ]
    }
   ],
   "source": [
    "n = len(pd.unique(df['gender']))\n",
    "print(\"No.of.unique values :\",n)\n",
    "\n",
    "print()\n",
    "\n",
    "a = df['gender'].unique()\n",
    "print(sorted(a))"
   ]
  },
  {
   "cell_type": "code",
   "execution_count": 27,
   "id": "687e23ea",
   "metadata": {},
   "outputs": [],
   "source": [
    "df = df.drop('can_children_observe_deterioration_of_basic_services_of_school', axis=1)\n",
    "df = df.drop('do_children_3_and_17_yrs_receive_regular_school_meals', axis=1)\n",
    "df = df.drop('are_there_teachers_at_scheduled_class_hours', axis=1)\n"
   ]
  },
  {
   "cell_type": "code",
   "execution_count": 28,
   "id": "24d3364d",
   "metadata": {},
   "outputs": [
    {
     "name": "stdout",
     "output_type": "stream",
     "text": [
      "gender                 object\n",
      "age                    object\n",
      "geography              object\n",
      "financial_situation    object\n",
      "education              object\n",
      "employment_status      object\n",
      "submission_state       object\n",
      "dtype: object\n"
     ]
    }
   ],
   "source": [
    "print (df.dtypes)"
   ]
  },
  {
   "cell_type": "code",
   "execution_count": 29,
   "id": "4b9bb1aa",
   "metadata": {},
   "outputs": [],
   "source": [
    "final_data = pd.get_dummies(df, drop_first = True)"
   ]
  },
  {
   "cell_type": "code",
   "execution_count": 30,
   "id": "be96a581",
   "metadata": {},
   "outputs": [
    {
     "data": {
      "text/html": [
       "<div>\n",
       "<style scoped>\n",
       "    .dataframe tbody tr th:only-of-type {\n",
       "        vertical-align: middle;\n",
       "    }\n",
       "\n",
       "    .dataframe tbody tr th {\n",
       "        vertical-align: top;\n",
       "    }\n",
       "\n",
       "    .dataframe thead th {\n",
       "        text-align: right;\n",
       "    }\n",
       "</style>\n",
       "<table border=\"1\" class=\"dataframe\">\n",
       "  <thead>\n",
       "    <tr style=\"text-align: right;\">\n",
       "      <th></th>\n",
       "      <th>gender_Male</th>\n",
       "      <th>gender_Non-Binary</th>\n",
       "      <th>gender_Prefer not to answer</th>\n",
       "      <th>age_26 to 35 years old</th>\n",
       "      <th>age_36 to 45 years old</th>\n",
       "      <th>age_Over 45 years old</th>\n",
       "      <th>age_Under 16</th>\n",
       "      <th>geography_Rural</th>\n",
       "      <th>geography_Suburban/Peri-urban</th>\n",
       "      <th>financial_situation_I can afford food, but nothing else</th>\n",
       "      <th>...</th>\n",
       "      <th>submission_state_Monagas</th>\n",
       "      <th>submission_state_Mérida</th>\n",
       "      <th>submission_state_Nueva Esparta</th>\n",
       "      <th>submission_state_Portuguesa</th>\n",
       "      <th>submission_state_Sucre</th>\n",
       "      <th>submission_state_Trujillo</th>\n",
       "      <th>submission_state_Táchira</th>\n",
       "      <th>submission_state_Vargas</th>\n",
       "      <th>submission_state_Yaracuy</th>\n",
       "      <th>submission_state_Zulia</th>\n",
       "    </tr>\n",
       "  </thead>\n",
       "  <tbody>\n",
       "    <tr>\n",
       "      <th>0</th>\n",
       "      <td>0</td>\n",
       "      <td>0</td>\n",
       "      <td>0</td>\n",
       "      <td>0</td>\n",
       "      <td>0</td>\n",
       "      <td>1</td>\n",
       "      <td>0</td>\n",
       "      <td>0</td>\n",
       "      <td>1</td>\n",
       "      <td>0</td>\n",
       "      <td>...</td>\n",
       "      <td>0</td>\n",
       "      <td>0</td>\n",
       "      <td>0</td>\n",
       "      <td>0</td>\n",
       "      <td>0</td>\n",
       "      <td>0</td>\n",
       "      <td>0</td>\n",
       "      <td>0</td>\n",
       "      <td>0</td>\n",
       "      <td>0</td>\n",
       "    </tr>\n",
       "    <tr>\n",
       "      <th>1</th>\n",
       "      <td>1</td>\n",
       "      <td>0</td>\n",
       "      <td>0</td>\n",
       "      <td>1</td>\n",
       "      <td>0</td>\n",
       "      <td>0</td>\n",
       "      <td>0</td>\n",
       "      <td>0</td>\n",
       "      <td>1</td>\n",
       "      <td>0</td>\n",
       "      <td>...</td>\n",
       "      <td>0</td>\n",
       "      <td>0</td>\n",
       "      <td>0</td>\n",
       "      <td>0</td>\n",
       "      <td>0</td>\n",
       "      <td>0</td>\n",
       "      <td>0</td>\n",
       "      <td>0</td>\n",
       "      <td>0</td>\n",
       "      <td>0</td>\n",
       "    </tr>\n",
       "    <tr>\n",
       "      <th>2</th>\n",
       "      <td>0</td>\n",
       "      <td>0</td>\n",
       "      <td>0</td>\n",
       "      <td>1</td>\n",
       "      <td>0</td>\n",
       "      <td>0</td>\n",
       "      <td>0</td>\n",
       "      <td>0</td>\n",
       "      <td>0</td>\n",
       "      <td>0</td>\n",
       "      <td>...</td>\n",
       "      <td>0</td>\n",
       "      <td>0</td>\n",
       "      <td>0</td>\n",
       "      <td>0</td>\n",
       "      <td>0</td>\n",
       "      <td>0</td>\n",
       "      <td>0</td>\n",
       "      <td>0</td>\n",
       "      <td>0</td>\n",
       "      <td>0</td>\n",
       "    </tr>\n",
       "    <tr>\n",
       "      <th>3</th>\n",
       "      <td>1</td>\n",
       "      <td>0</td>\n",
       "      <td>0</td>\n",
       "      <td>0</td>\n",
       "      <td>1</td>\n",
       "      <td>0</td>\n",
       "      <td>0</td>\n",
       "      <td>0</td>\n",
       "      <td>1</td>\n",
       "      <td>1</td>\n",
       "      <td>...</td>\n",
       "      <td>0</td>\n",
       "      <td>0</td>\n",
       "      <td>0</td>\n",
       "      <td>0</td>\n",
       "      <td>0</td>\n",
       "      <td>0</td>\n",
       "      <td>0</td>\n",
       "      <td>0</td>\n",
       "      <td>0</td>\n",
       "      <td>0</td>\n",
       "    </tr>\n",
       "    <tr>\n",
       "      <th>4</th>\n",
       "      <td>0</td>\n",
       "      <td>0</td>\n",
       "      <td>0</td>\n",
       "      <td>0</td>\n",
       "      <td>0</td>\n",
       "      <td>1</td>\n",
       "      <td>0</td>\n",
       "      <td>0</td>\n",
       "      <td>1</td>\n",
       "      <td>0</td>\n",
       "      <td>...</td>\n",
       "      <td>0</td>\n",
       "      <td>0</td>\n",
       "      <td>0</td>\n",
       "      <td>0</td>\n",
       "      <td>0</td>\n",
       "      <td>0</td>\n",
       "      <td>0</td>\n",
       "      <td>0</td>\n",
       "      <td>0</td>\n",
       "      <td>0</td>\n",
       "    </tr>\n",
       "  </tbody>\n",
       "</table>\n",
       "<p>5 rows × 57 columns</p>\n",
       "</div>"
      ],
      "text/plain": [
       "   gender_Male  gender_Non-Binary  gender_Prefer not to answer  \\\n",
       "0            0                  0                            0   \n",
       "1            1                  0                            0   \n",
       "2            0                  0                            0   \n",
       "3            1                  0                            0   \n",
       "4            0                  0                            0   \n",
       "\n",
       "   age_26 to 35 years old  age_36 to 45 years old  age_Over 45 years old  \\\n",
       "0                       0                       0                      1   \n",
       "1                       1                       0                      0   \n",
       "2                       1                       0                      0   \n",
       "3                       0                       1                      0   \n",
       "4                       0                       0                      1   \n",
       "\n",
       "   age_Under 16  geography_Rural  geography_Suburban/Peri-urban  \\\n",
       "0             0                0                              1   \n",
       "1             0                0                              1   \n",
       "2             0                0                              0   \n",
       "3             0                0                              1   \n",
       "4             0                0                              1   \n",
       "\n",
       "   financial_situation_I can afford food, but nothing else  ...  \\\n",
       "0                                                  0        ...   \n",
       "1                                                  0        ...   \n",
       "2                                                  0        ...   \n",
       "3                                                  1        ...   \n",
       "4                                                  0        ...   \n",
       "\n",
       "   submission_state_Monagas  submission_state_Mérida  \\\n",
       "0                         0                        0   \n",
       "1                         0                        0   \n",
       "2                         0                        0   \n",
       "3                         0                        0   \n",
       "4                         0                        0   \n",
       "\n",
       "   submission_state_Nueva Esparta  submission_state_Portuguesa  \\\n",
       "0                               0                            0   \n",
       "1                               0                            0   \n",
       "2                               0                            0   \n",
       "3                               0                            0   \n",
       "4                               0                            0   \n",
       "\n",
       "   submission_state_Sucre  submission_state_Trujillo  \\\n",
       "0                       0                          0   \n",
       "1                       0                          0   \n",
       "2                       0                          0   \n",
       "3                       0                          0   \n",
       "4                       0                          0   \n",
       "\n",
       "   submission_state_Táchira  submission_state_Vargas  \\\n",
       "0                         0                        0   \n",
       "1                         0                        0   \n",
       "2                         0                        0   \n",
       "3                         0                        0   \n",
       "4                         0                        0   \n",
       "\n",
       "   submission_state_Yaracuy  submission_state_Zulia  \n",
       "0                         0                       0  \n",
       "1                         0                       0  \n",
       "2                         0                       0  \n",
       "3                         0                       0  \n",
       "4                         0                       0  \n",
       "\n",
       "[5 rows x 57 columns]"
      ]
     },
     "execution_count": 30,
     "metadata": {},
     "output_type": "execute_result"
    }
   ],
   "source": [
    "final_data.head()"
   ]
  },
  {
   "cell_type": "code",
   "execution_count": 31,
   "id": "19b42f30",
   "metadata": {},
   "outputs": [
    {
     "name": "stdout",
     "output_type": "stream",
     "text": [
      "No.of.unique values : 24\n"
     ]
    }
   ],
   "source": [
    "n = len(pd.unique(df['submission_state']))\n",
    "print(\"No.of.unique values :\",n)\n"
   ]
  },
  {
   "cell_type": "markdown",
   "id": "7afc7df3",
   "metadata": {},
   "source": [
    "##  DATA VISUALIZATION"
   ]
  },
  {
   "cell_type": "markdown",
   "id": "a6a0bbeb",
   "metadata": {},
   "source": [
    "## Pair Plot"
   ]
  },
  {
   "cell_type": "code",
   "execution_count": 32,
   "id": "a5ae3293",
   "metadata": {},
   "outputs": [],
   "source": [
    "df.head()\n",
    "from sklearn.preprocessing import LabelEncoder"
   ]
  },
  {
   "cell_type": "code",
   "execution_count": 33,
   "id": "6e575859",
   "metadata": {},
   "outputs": [],
   "source": [
    "nonlabled_df=df.copy()"
   ]
  },
  {
   "cell_type": "code",
   "execution_count": 34,
   "id": "29d544bd",
   "metadata": {},
   "outputs": [
    {
     "name": "stdout",
     "output_type": "stream",
     "text": [
      "   gender                 age                         geography  \\\n",
      "0       0   Over 45 years old               Suburban/Peri-urban   \n",
      "1       1  26 to 35 years old               Suburban/Peri-urban   \n",
      "2       0  26 to 35 years old  City center or metropolitan area   \n",
      "3       1  36 to 45 years old               Suburban/Peri-urban   \n",
      "4       0   Over 45 years old               Suburban/Peri-urban   \n",
      "\n",
      "                                 financial_situation  \\\n",
      "0  I can afford food and regular expenses, but no...   \n",
      "1          I cannot afford enough food for my family   \n",
      "2  I can comfortably afford food, clothes, and fu...   \n",
      "3                I can afford food, but nothing else   \n",
      "4  I can afford food and regular expenses, but no...   \n",
      "\n",
      "                                education  \\\n",
      "0  University or college degree completed   \n",
      "1  University or college degree completed   \n",
      "2  University or college degree completed   \n",
      "3  University or college degree completed   \n",
      "4  University or college degree completed   \n",
      "\n",
      "                                   employment_status submission_state  \n",
      "0                                    I am unemployed          Miranda  \n",
      "1                                    I am unemployed          Miranda  \n",
      "2  I work full-time, either as an employee or sel...          Miranda  \n",
      "3  I work full-time, either as an employee or sel...          Miranda  \n",
      "4                                    I am unemployed          Miranda  \n"
     ]
    }
   ],
   "source": [
    "from sklearn import preprocessing\n",
    "# label_encoder object knows how to understand word labels. \n",
    "label_encoder = preprocessing.LabelEncoder()\n",
    "# Encode labels in column 'Country'. \n",
    "df['gender']= label_encoder.fit_transform(df['gender']) \n",
    "print(df.head())"
   ]
  },
  {
   "cell_type": "code",
   "execution_count": 35,
   "id": "498bcacb",
   "metadata": {},
   "outputs": [],
   "source": [
    "df['age']= label_encoder.fit_transform(df['age']) \n",
    "df['geography']= label_encoder.fit_transform(df['geography']) \n",
    "df['financial_situation']= label_encoder.fit_transform(df['financial_situation']) \n",
    "df['education']= label_encoder.fit_transform(df['education']) \n",
    "df['employment_status']= label_encoder.fit_transform(df['employment_status']) \n",
    "df['submission_state']= label_encoder.fit_transform(df['submission_state']) "
   ]
  },
  {
   "cell_type": "code",
   "execution_count": 36,
   "id": "09c3c0f2",
   "metadata": {},
   "outputs": [
    {
     "data": {
      "text/html": [
       "<div>\n",
       "<style scoped>\n",
       "    .dataframe tbody tr th:only-of-type {\n",
       "        vertical-align: middle;\n",
       "    }\n",
       "\n",
       "    .dataframe tbody tr th {\n",
       "        vertical-align: top;\n",
       "    }\n",
       "\n",
       "    .dataframe thead th {\n",
       "        text-align: right;\n",
       "    }\n",
       "</style>\n",
       "<table border=\"1\" class=\"dataframe\">\n",
       "  <thead>\n",
       "    <tr style=\"text-align: right;\">\n",
       "      <th></th>\n",
       "      <th>gender</th>\n",
       "      <th>age</th>\n",
       "      <th>geography</th>\n",
       "      <th>financial_situation</th>\n",
       "      <th>education</th>\n",
       "      <th>employment_status</th>\n",
       "      <th>submission_state</th>\n",
       "    </tr>\n",
       "  </thead>\n",
       "  <tbody>\n",
       "    <tr>\n",
       "      <th>0</th>\n",
       "      <td>0</td>\n",
       "      <td>3</td>\n",
       "      <td>2</td>\n",
       "      <td>0</td>\n",
       "      <td>10</td>\n",
       "      <td>5</td>\n",
       "      <td>13</td>\n",
       "    </tr>\n",
       "    <tr>\n",
       "      <th>1</th>\n",
       "      <td>1</td>\n",
       "      <td>1</td>\n",
       "      <td>2</td>\n",
       "      <td>5</td>\n",
       "      <td>10</td>\n",
       "      <td>5</td>\n",
       "      <td>13</td>\n",
       "    </tr>\n",
       "    <tr>\n",
       "      <th>2</th>\n",
       "      <td>0</td>\n",
       "      <td>1</td>\n",
       "      <td>0</td>\n",
       "      <td>3</td>\n",
       "      <td>10</td>\n",
       "      <td>7</td>\n",
       "      <td>13</td>\n",
       "    </tr>\n",
       "    <tr>\n",
       "      <th>3</th>\n",
       "      <td>1</td>\n",
       "      <td>2</td>\n",
       "      <td>2</td>\n",
       "      <td>1</td>\n",
       "      <td>10</td>\n",
       "      <td>7</td>\n",
       "      <td>13</td>\n",
       "    </tr>\n",
       "    <tr>\n",
       "      <th>4</th>\n",
       "      <td>0</td>\n",
       "      <td>3</td>\n",
       "      <td>2</td>\n",
       "      <td>0</td>\n",
       "      <td>10</td>\n",
       "      <td>5</td>\n",
       "      <td>13</td>\n",
       "    </tr>\n",
       "  </tbody>\n",
       "</table>\n",
       "</div>"
      ],
      "text/plain": [
       "   gender  age  geography  financial_situation  education  employment_status  \\\n",
       "0       0    3          2                    0         10                  5   \n",
       "1       1    1          2                    5         10                  5   \n",
       "2       0    1          0                    3         10                  7   \n",
       "3       1    2          2                    1         10                  7   \n",
       "4       0    3          2                    0         10                  5   \n",
       "\n",
       "   submission_state  \n",
       "0                13  \n",
       "1                13  \n",
       "2                13  \n",
       "3                13  \n",
       "4                13  "
      ]
     },
     "execution_count": 36,
     "metadata": {},
     "output_type": "execute_result"
    }
   ],
   "source": [
    "df.head()"
   ]
  },
  {
   "cell_type": "code",
   "execution_count": 37,
   "id": "aaa3ca7a",
   "metadata": {},
   "outputs": [
    {
     "data": {
      "text/plain": [
       "<seaborn.axisgrid.PairGrid at 0x20e0080de70>"
      ]
     },
     "execution_count": 37,
     "metadata": {},
     "output_type": "execute_result"
    },
    {
     "data": {
      "image/png": "[encoded data removed]",
      "text/plain": [
       "<Figure size 1260x1260 with 56 Axes>"
      ]
     },
     "metadata": {
      "needs_background": "light"
     },
     "output_type": "display_data"
    }
   ],
   "source": [
    "sns.pairplot(df)"
   ]
  },
  {
   "cell_type": "markdown",
   "id": "fc7a3238",
   "metadata": {},
   "source": [
    "## Heat Map"
   ]
  },
  {
   "cell_type": "code",
   "execution_count": 38,
   "id": "70e9b147",
   "metadata": {},
   "outputs": [
    {
     "data": {
      "text/plain": [
       "<AxesSubplot:>"
      ]
     },
     "execution_count": 38,
     "metadata": {},
     "output_type": "execute_result"
    },
    {
     "data": {
      "image/png": "[encoded data removed]",
      "text/plain": [
       "<Figure size 640x480 with 2 Axes>"
      ]
     },
     "metadata": {},
     "output_type": "display_data"
    }
   ],
   "source": [
    "sns.heatmap(df.corr(),annot=True)"
   ]
  },
  {
   "cell_type": "code",
   "execution_count": 39,
   "id": "2b6787bd",
   "metadata": {},
   "outputs": [
    {
     "data": {
      "text/html": [
       "<div>\n",
       "<style scoped>\n",
       "    .dataframe tbody tr th:only-of-type {\n",
       "        vertical-align: middle;\n",
       "    }\n",
       "\n",
       "    .dataframe tbody tr th {\n",
       "        vertical-align: top;\n",
       "    }\n",
       "\n",
       "    .dataframe thead th {\n",
       "        text-align: right;\n",
       "    }\n",
       "</style>\n",
       "<table border=\"1\" class=\"dataframe\">\n",
       "  <thead>\n",
       "    <tr style=\"text-align: right;\">\n",
       "      <th></th>\n",
       "      <th>gender</th>\n",
       "      <th>age</th>\n",
       "      <th>geography</th>\n",
       "      <th>financial_situation</th>\n",
       "      <th>education</th>\n",
       "      <th>employment_status</th>\n",
       "      <th>submission_state</th>\n",
       "    </tr>\n",
       "  </thead>\n",
       "  <tbody>\n",
       "    <tr>\n",
       "      <th>0</th>\n",
       "      <td>Female</td>\n",
       "      <td>Over 45 years old</td>\n",
       "      <td>Suburban/Peri-urban</td>\n",
       "      <td>I can afford food and regular expenses, but no...</td>\n",
       "      <td>University or college degree completed</td>\n",
       "      <td>I am unemployed</td>\n",
       "      <td>Miranda</td>\n",
       "    </tr>\n",
       "    <tr>\n",
       "      <th>1</th>\n",
       "      <td>Male</td>\n",
       "      <td>26 to 35 years old</td>\n",
       "      <td>Suburban/Peri-urban</td>\n",
       "      <td>I cannot afford enough food for my family</td>\n",
       "      <td>University or college degree completed</td>\n",
       "      <td>I am unemployed</td>\n",
       "      <td>Miranda</td>\n",
       "    </tr>\n",
       "    <tr>\n",
       "      <th>2</th>\n",
       "      <td>Female</td>\n",
       "      <td>26 to 35 years old</td>\n",
       "      <td>City center or metropolitan area</td>\n",
       "      <td>I can comfortably afford food, clothes, and fu...</td>\n",
       "      <td>University or college degree completed</td>\n",
       "      <td>I work full-time, either as an employee or sel...</td>\n",
       "      <td>Miranda</td>\n",
       "    </tr>\n",
       "    <tr>\n",
       "      <th>3</th>\n",
       "      <td>Male</td>\n",
       "      <td>36 to 45 years old</td>\n",
       "      <td>Suburban/Peri-urban</td>\n",
       "      <td>I can afford food, but nothing else</td>\n",
       "      <td>University or college degree completed</td>\n",
       "      <td>I work full-time, either as an employee or sel...</td>\n",
       "      <td>Miranda</td>\n",
       "    </tr>\n",
       "    <tr>\n",
       "      <th>4</th>\n",
       "      <td>Female</td>\n",
       "      <td>Over 45 years old</td>\n",
       "      <td>Suburban/Peri-urban</td>\n",
       "      <td>I can afford food and regular expenses, but no...</td>\n",
       "      <td>University or college degree completed</td>\n",
       "      <td>I am unemployed</td>\n",
       "      <td>Miranda</td>\n",
       "    </tr>\n",
       "  </tbody>\n",
       "</table>\n",
       "</div>"
      ],
      "text/plain": [
       "   gender                 age                         geography  \\\n",
       "0  Female   Over 45 years old               Suburban/Peri-urban   \n",
       "1    Male  26 to 35 years old               Suburban/Peri-urban   \n",
       "2  Female  26 to 35 years old  City center or metropolitan area   \n",
       "3    Male  36 to 45 years old               Suburban/Peri-urban   \n",
       "4  Female   Over 45 years old               Suburban/Peri-urban   \n",
       "\n",
       "                                 financial_situation  \\\n",
       "0  I can afford food and regular expenses, but no...   \n",
       "1          I cannot afford enough food for my family   \n",
       "2  I can comfortably afford food, clothes, and fu...   \n",
       "3                I can afford food, but nothing else   \n",
       "4  I can afford food and regular expenses, but no...   \n",
       "\n",
       "                                education  \\\n",
       "0  University or college degree completed   \n",
       "1  University or college degree completed   \n",
       "2  University or college degree completed   \n",
       "3  University or college degree completed   \n",
       "4  University or college degree completed   \n",
       "\n",
       "                                   employment_status submission_state  \n",
       "0                                    I am unemployed          Miranda  \n",
       "1                                    I am unemployed          Miranda  \n",
       "2  I work full-time, either as an employee or sel...          Miranda  \n",
       "3  I work full-time, either as an employee or sel...          Miranda  \n",
       "4                                    I am unemployed          Miranda  "
      ]
     },
     "execution_count": 39,
     "metadata": {},
     "output_type": "execute_result"
    }
   ],
   "source": [
    "nonlabled_df.head()"
   ]
  },
  {
   "cell_type": "code",
   "execution_count": 40,
   "id": "b067f6ba",
   "metadata": {},
   "outputs": [
    {
     "data": {
      "text/plain": [
       "array(['Suburban/Peri-urban', 'City center or metropolitan area', 'Rural'],\n",
       "      dtype=object)"
      ]
     },
     "execution_count": 40,
     "metadata": {},
     "output_type": "execute_result"
    }
   ],
   "source": [
    "nonlabled_df['geography'].unique()"
   ]
  },
  {
   "cell_type": "code",
   "execution_count": 41,
   "id": "5bf80c5b",
   "metadata": {},
   "outputs": [],
   "source": [
    "import matplotlib.pyplot as plt\n",
    "import numpy as np"
   ]
  },
  {
   "cell_type": "code",
   "execution_count": 42,
   "id": "1ed77546",
   "metadata": {},
   "outputs": [],
   "source": [
    "labels = ['University or college degree completed','Secondary school/ high school completed','Technical school diploma or degree completed','Some university or college','Some technical education (e.g polytechnic school)','Post-graduate education','Some secondary school / high school','Primary school completed','Prefer not to answer','Some primary education','No formal education','Post graduate','Secondary/high school','Technical school']"
   ]
  },
  {
   "cell_type": "code",
   "execution_count": 43,
   "id": "10181b00",
   "metadata": {},
   "outputs": [
    {
     "data": {
      "text/plain": [
       "array(['Suburban/Peri-urban', 'City center or metropolitan area', 'Rural'],\n",
       "      dtype=object)"
      ]
     },
     "execution_count": 43,
     "metadata": {},
     "output_type": "execute_result"
    }
   ],
   "source": [
    "nonlabled_df['geography'].unique()"
   ]
  },
  {
   "cell_type": "code",
   "execution_count": 44,
   "id": "ec62a0ff",
   "metadata": {},
   "outputs": [
    {
     "data": {
      "image/png": "[encoded data removed]",
      "text/plain": [
       "<Figure size 640x480 with 1 Axes>"
      ]
     },
     "metadata": {},
     "output_type": "display_data"
    }
   ],
   "source": [
    "geo_data = nonlabled_df.loc[nonlabled_df['geography'] == 'Suburban/Peri-urban']\n",
    "geo_data.head()\n",
    "geo_data = geo_data[['education']]\n",
    "plt.pie(geo_data.value_counts())\n",
    "plt.legend(labels, loc=\"best\",prop={'size': 5},)\n",
    "plt.tight_layout()\n",
    "plt.show()"
   ]
  },
  {
   "cell_type": "code",
   "execution_count": 45,
   "id": "a1a48315",
   "metadata": {},
   "outputs": [
    {
     "data": {
      "text/html": [
       "<div>\n",
       "<style scoped>\n",
       "    .dataframe tbody tr th:only-of-type {\n",
       "        vertical-align: middle;\n",
       "    }\n",
       "\n",
       "    .dataframe tbody tr th {\n",
       "        vertical-align: top;\n",
       "    }\n",
       "\n",
       "    .dataframe thead th {\n",
       "        text-align: right;\n",
       "    }\n",
       "</style>\n",
       "<table border=\"1\" class=\"dataframe\">\n",
       "  <thead>\n",
       "    <tr style=\"text-align: right;\">\n",
       "      <th></th>\n",
       "      <th>gender</th>\n",
       "      <th>age</th>\n",
       "      <th>geography</th>\n",
       "      <th>financial_situation</th>\n",
       "      <th>education</th>\n",
       "      <th>employment_status</th>\n",
       "      <th>submission_state</th>\n",
       "    </tr>\n",
       "  </thead>\n",
       "  <tbody>\n",
       "    <tr>\n",
       "      <th>0</th>\n",
       "      <td>Female</td>\n",
       "      <td>Over 45 years old</td>\n",
       "      <td>Suburban/Peri-urban</td>\n",
       "      <td>I can afford food and regular expenses, but no...</td>\n",
       "      <td>University or college degree completed</td>\n",
       "      <td>I am unemployed</td>\n",
       "      <td>Miranda</td>\n",
       "    </tr>\n",
       "    <tr>\n",
       "      <th>1</th>\n",
       "      <td>Male</td>\n",
       "      <td>26 to 35 years old</td>\n",
       "      <td>Suburban/Peri-urban</td>\n",
       "      <td>I cannot afford enough food for my family</td>\n",
       "      <td>University or college degree completed</td>\n",
       "      <td>I am unemployed</td>\n",
       "      <td>Miranda</td>\n",
       "    </tr>\n",
       "    <tr>\n",
       "      <th>2</th>\n",
       "      <td>Female</td>\n",
       "      <td>26 to 35 years old</td>\n",
       "      <td>City center or metropolitan area</td>\n",
       "      <td>I can comfortably afford food, clothes, and fu...</td>\n",
       "      <td>University or college degree completed</td>\n",
       "      <td>I work full-time, either as an employee or sel...</td>\n",
       "      <td>Miranda</td>\n",
       "    </tr>\n",
       "    <tr>\n",
       "      <th>3</th>\n",
       "      <td>Male</td>\n",
       "      <td>36 to 45 years old</td>\n",
       "      <td>Suburban/Peri-urban</td>\n",
       "      <td>I can afford food, but nothing else</td>\n",
       "      <td>University or college degree completed</td>\n",
       "      <td>I work full-time, either as an employee or sel...</td>\n",
       "      <td>Miranda</td>\n",
       "    </tr>\n",
       "    <tr>\n",
       "      <th>4</th>\n",
       "      <td>Female</td>\n",
       "      <td>Over 45 years old</td>\n",
       "      <td>Suburban/Peri-urban</td>\n",
       "      <td>I can afford food and regular expenses, but no...</td>\n",
       "      <td>University or college degree completed</td>\n",
       "      <td>I am unemployed</td>\n",
       "      <td>Miranda</td>\n",
       "    </tr>\n",
       "  </tbody>\n",
       "</table>\n",
       "</div>"
      ],
      "text/plain": [
       "   gender                 age                         geography  \\\n",
       "0  Female   Over 45 years old               Suburban/Peri-urban   \n",
       "1    Male  26 to 35 years old               Suburban/Peri-urban   \n",
       "2  Female  26 to 35 years old  City center or metropolitan area   \n",
       "3    Male  36 to 45 years old               Suburban/Peri-urban   \n",
       "4  Female   Over 45 years old               Suburban/Peri-urban   \n",
       "\n",
       "                                 financial_situation  \\\n",
       "0  I can afford food and regular expenses, but no...   \n",
       "1          I cannot afford enough food for my family   \n",
       "2  I can comfortably afford food, clothes, and fu...   \n",
       "3                I can afford food, but nothing else   \n",
       "4  I can afford food and regular expenses, but no...   \n",
       "\n",
       "                                education  \\\n",
       "0  University or college degree completed   \n",
       "1  University or college degree completed   \n",
       "2  University or college degree completed   \n",
       "3  University or college degree completed   \n",
       "4  University or college degree completed   \n",
       "\n",
       "                                   employment_status submission_state  \n",
       "0                                    I am unemployed          Miranda  \n",
       "1                                    I am unemployed          Miranda  \n",
       "2  I work full-time, either as an employee or sel...          Miranda  \n",
       "3  I work full-time, either as an employee or sel...          Miranda  \n",
       "4                                    I am unemployed          Miranda  "
      ]
     },
     "execution_count": 45,
     "metadata": {},
     "output_type": "execute_result"
    }
   ],
   "source": [
    "nonlabled_df.head()"
   ]
  },
  {
   "cell_type": "code",
   "execution_count": 46,
   "id": "9e2c548c",
   "metadata": {},
   "outputs": [
    {
     "data": {
      "image/png": "[encoded data removed]",
      "text/plain": [
       "<Figure size 640x480 with 1 Axes>"
      ]
     },
     "metadata": {},
     "output_type": "display_data"
    }
   ],
   "source": [
    "geo_data = nonlabled_df.loc[nonlabled_df['geography'] == 'City center or metropolitan area']\n",
    "geo_data = geo_data[['education']]\n",
    "plt.pie(geo_data.value_counts())\n",
    "plt.legend(labels, loc=\"best\",prop={'size': 5},)\n",
    "plt.tight_layout()\n",
    "plt.show()\n"
   ]
  },
  {
   "cell_type": "code",
   "execution_count": 47,
   "id": "f6227df9",
   "metadata": {},
   "outputs": [
    {
     "data": {
      "image/png": "[encoded data removed]",
      "text/plain": [
       "<Figure size 640x480 with 1 Axes>"
      ]
     },
     "metadata": {},
     "output_type": "display_data"
    }
   ],
   "source": [
    "geo_data = nonlabled_df.loc[nonlabled_df['geography'] == 'Rural']\n",
    "geo_data = geo_data[['education']]\n",
    "plt.pie(geo_data.value_counts())\n",
    "plt.legend(labels, loc=\"best\",prop={'size': 5},)\n",
    "plt.tight_layout()\n",
    "plt.show()\n"
   ]
  },
  {
   "cell_type": "markdown",
   "id": "037879c7",
   "metadata": {},
   "source": [
    "## Model Taining "
   ]
  },
  {
   "cell_type": "markdown",
   "id": "68d08dd3",
   "metadata": {},
   "source": [
    "Expected "
   ]
  },
  {
   "cell_type": "code",
   "execution_count": 48,
   "id": "9591a687",
   "metadata": {},
   "outputs": [],
   "source": [
    "df = df.rename(columns={'financial_situation': 'label'})\n"
   ]
  },
  {
   "cell_type": "code",
   "execution_count": 49,
   "id": "53022570",
   "metadata": {},
   "outputs": [
    {
     "data": {
      "text/html": [
       "<div>\n",
       "<style scoped>\n",
       "    .dataframe tbody tr th:only-of-type {\n",
       "        vertical-align: middle;\n",
       "    }\n",
       "\n",
       "    .dataframe tbody tr th {\n",
       "        vertical-align: top;\n",
       "    }\n",
       "\n",
       "    .dataframe thead th {\n",
       "        text-align: right;\n",
       "    }\n",
       "</style>\n",
       "<table border=\"1\" class=\"dataframe\">\n",
       "  <thead>\n",
       "    <tr style=\"text-align: right;\">\n",
       "      <th></th>\n",
       "      <th>gender</th>\n",
       "      <th>age</th>\n",
       "      <th>geography</th>\n",
       "      <th>label</th>\n",
       "      <th>education</th>\n",
       "      <th>employment_status</th>\n",
       "      <th>submission_state</th>\n",
       "    </tr>\n",
       "  </thead>\n",
       "  <tbody>\n",
       "    <tr>\n",
       "      <th>0</th>\n",
       "      <td>0</td>\n",
       "      <td>3</td>\n",
       "      <td>2</td>\n",
       "      <td>0</td>\n",
       "      <td>10</td>\n",
       "      <td>5</td>\n",
       "      <td>13</td>\n",
       "    </tr>\n",
       "    <tr>\n",
       "      <th>1</th>\n",
       "      <td>1</td>\n",
       "      <td>1</td>\n",
       "      <td>2</td>\n",
       "      <td>5</td>\n",
       "      <td>10</td>\n",
       "      <td>5</td>\n",
       "      <td>13</td>\n",
       "    </tr>\n",
       "    <tr>\n",
       "      <th>2</th>\n",
       "      <td>0</td>\n",
       "      <td>1</td>\n",
       "      <td>0</td>\n",
       "      <td>3</td>\n",
       "      <td>10</td>\n",
       "      <td>7</td>\n",
       "      <td>13</td>\n",
       "    </tr>\n",
       "    <tr>\n",
       "      <th>3</th>\n",
       "      <td>1</td>\n",
       "      <td>2</td>\n",
       "      <td>2</td>\n",
       "      <td>1</td>\n",
       "      <td>10</td>\n",
       "      <td>7</td>\n",
       "      <td>13</td>\n",
       "    </tr>\n",
       "    <tr>\n",
       "      <th>4</th>\n",
       "      <td>0</td>\n",
       "      <td>3</td>\n",
       "      <td>2</td>\n",
       "      <td>0</td>\n",
       "      <td>10</td>\n",
       "      <td>5</td>\n",
       "      <td>13</td>\n",
       "    </tr>\n",
       "  </tbody>\n",
       "</table>\n",
       "</div>"
      ],
      "text/plain": [
       "   gender  age  geography  label  education  employment_status  \\\n",
       "0       0    3          2      0         10                  5   \n",
       "1       1    1          2      5         10                  5   \n",
       "2       0    1          0      3         10                  7   \n",
       "3       1    2          2      1         10                  7   \n",
       "4       0    3          2      0         10                  5   \n",
       "\n",
       "   submission_state  \n",
       "0                13  \n",
       "1                13  \n",
       "2                13  \n",
       "3                13  \n",
       "4                13  "
      ]
     },
     "execution_count": 49,
     "metadata": {},
     "output_type": "execute_result"
    }
   ],
   "source": [
    "df.head()"
   ]
  },
  {
   "cell_type": "code",
   "execution_count": 50,
   "id": "f3bffb85",
   "metadata": {},
   "outputs": [],
   "source": [
    "features = df[['gender', 'age','geography','education', 'employment_status']]\n",
    "target = df['label']\n",
    "labels = df['label']"
   ]
  },
  {
   "cell_type": "code",
   "execution_count": 51,
   "id": "8decc936",
   "metadata": {},
   "outputs": [],
   "source": [
    "# Initializing empty lists to append all model's name and corresponding name\n",
    "acc = []\n",
    "model = []\n"
   ]
  },
  {
   "cell_type": "code",
   "execution_count": 52,
   "id": "9b1c295a",
   "metadata": {},
   "outputs": [],
   "source": [
    "# Splitting into train and test data\n",
    "\n",
    "from sklearn.model_selection import train_test_split\n",
    "Xtrain, Xtest, Ytrain, Ytest = train_test_split(features,target,test_size = 0.20,random_state =42)"
   ]
  },
  {
   "cell_type": "markdown",
   "id": "c2a1f9f1",
   "metadata": {},
   "source": [
    "## DecisionTreeClassifier"
   ]
  },
  {
   "cell_type": "code",
   "execution_count": 53,
   "id": "c462b764",
   "metadata": {},
   "outputs": [
    {
     "name": "stdout",
     "output_type": "stream",
     "text": [
      "DecisionTrees's Accuracy is:  38.288288288288285\n",
      "              precision    recall  f1-score   support\n",
      "\n",
      "           0       0.36      0.41      0.39       230\n",
      "           1       0.37      0.51      0.43       284\n",
      "           2       0.00      0.00      0.00        51\n",
      "           3       0.00      0.00      0.00        29\n",
      "           4       0.00      0.00      0.00        24\n",
      "           5       0.42      0.43      0.43       226\n",
      "           6       0.29      0.05      0.08        44\n",
      "\n",
      "    accuracy                           0.38       888\n",
      "   macro avg       0.21      0.20      0.19       888\n",
      "weighted avg       0.34      0.38      0.35       888\n",
      "\n"
     ]
    }
   ],
   "source": [
    "from sklearn.tree import DecisionTreeClassifier\n",
    "\n",
    "DecisionTree = DecisionTreeClassifier(criterion=\"entropy\",random_state=2,max_depth=5)\n",
    "\n",
    "DecisionTree.fit(Xtrain,Ytrain)\n",
    "\n",
    "predicted_values = DecisionTree.predict(Xtest)\n",
    "x = metrics.accuracy_score(Ytest, predicted_values)\n",
    "acc.append(x)\n",
    "model.append('Decision Tree')\n",
    "print(\"DecisionTrees's Accuracy is: \", x*100)\n",
    "\n",
    "print(classification_report(Ytest,predicted_values))"
   ]
  },
  {
   "cell_type": "markdown",
   "id": "e90741b2",
   "metadata": {},
   "source": [
    "## Logistic Regression"
   ]
  },
  {
   "cell_type": "code",
   "execution_count": 54,
   "id": "1d8e75e4",
   "metadata": {},
   "outputs": [
    {
     "name": "stdout",
     "output_type": "stream",
     "text": [
      "Logistic Regression's Accuracy is:  0.34121621621621623\n",
      "              precision    recall  f1-score   support\n",
      "\n",
      "           0       0.34      0.15      0.21       230\n",
      "           1       0.33      0.73      0.46       284\n",
      "           2       0.00      0.00      0.00        51\n",
      "           3       0.00      0.00      0.00        29\n",
      "           4       0.00      0.00      0.00        24\n",
      "           5       0.37      0.27      0.31       226\n",
      "           6       0.00      0.00      0.00        44\n",
      "\n",
      "    accuracy                           0.34       888\n",
      "   macro avg       0.15      0.16      0.14       888\n",
      "weighted avg       0.29      0.34      0.28       888\n",
      "\n"
     ]
    }
   ],
   "source": [
    "from sklearn.linear_model import LogisticRegression\n",
    "\n",
    "LogReg = LogisticRegression(random_state=2)\n",
    "\n",
    "LogReg.fit(Xtrain,Ytrain)\n",
    "\n",
    "predicted_values = LogReg.predict(Xtest)\n",
    "\n",
    "x = metrics.accuracy_score(Ytest, predicted_values)\n",
    "acc.append(x)\n",
    "model.append('Logistic Regression')\n",
    "print(\"Logistic Regression's Accuracy is: \", x)\n",
    "\n",
    "print(classification_report(Ytest,predicted_values))"
   ]
  },
  {
   "cell_type": "markdown",
   "id": "fc67dcd4",
   "metadata": {},
   "source": [
    "## XG-Boost"
   ]
  },
  {
   "cell_type": "code",
   "execution_count": 55,
   "id": "39bdbd04",
   "metadata": {},
   "outputs": [
    {
     "name": "stdout",
     "output_type": "stream",
     "text": [
      "XGBoost's Accuracy is:  0.32094594594594594\n",
      "              precision    recall  f1-score   support\n",
      "\n",
      "           0       0.34      0.40      0.37       230\n",
      "           1       0.32      0.39      0.35       284\n",
      "           2       0.00      0.00      0.00        51\n",
      "           3       0.00      0.00      0.00        29\n",
      "           4       0.00      0.00      0.00        24\n",
      "           5       0.33      0.35      0.34       226\n",
      "           6       0.27      0.09      0.14        44\n",
      "\n",
      "    accuracy                           0.32       888\n",
      "   macro avg       0.18      0.18      0.17       888\n",
      "weighted avg       0.29      0.32      0.30       888\n",
      "\n"
     ]
    }
   ],
   "source": [
    "import xgboost as xgb\n",
    "XB = xgb.XGBClassifier()\n",
    "XB.fit(Xtrain,Ytrain)\n",
    "\n",
    "predicted_values = XB.predict(Xtest)\n",
    "\n",
    "x = metrics.accuracy_score(Ytest, predicted_values)\n",
    "acc.append(x)\n",
    "model.append('XGBoost')\n",
    "print(\"XGBoost's Accuracy is: \", x)\n",
    "\n",
    "print(classification_report(Ytest,predicted_values))"
   ]
  },
  {
   "cell_type": "markdown",
   "id": "04e6f7d7",
   "metadata": {},
   "source": [
    "## Gaussian Naive Bayers"
   ]
  },
  {
   "cell_type": "code",
   "execution_count": 56,
   "id": "fb1c5bf9",
   "metadata": {},
   "outputs": [
    {
     "name": "stdout",
     "output_type": "stream",
     "text": [
      "Naive Bayes's Accuracy is:  0.34346846846846846\n",
      "              precision    recall  f1-score   support\n",
      "\n",
      "           0       0.30      0.32      0.31       230\n",
      "           1       0.35      0.51      0.41       284\n",
      "           2       0.00      0.00      0.00        51\n",
      "           3       0.00      0.00      0.00        29\n",
      "           4       0.00      0.00      0.00        24\n",
      "           5       0.38      0.37      0.37       226\n",
      "           6       0.31      0.09      0.14        44\n",
      "\n",
      "    accuracy                           0.34       888\n",
      "   macro avg       0.19      0.18      0.18       888\n",
      "weighted avg       0.30      0.34      0.32       888\n",
      "\n"
     ]
    }
   ],
   "source": [
    "from sklearn.naive_bayes import GaussianNB\n",
    "\n",
    "NaiveBayes = GaussianNB()\n",
    "\n",
    "NaiveBayes.fit(Xtrain,Ytrain)\n",
    "\n",
    "predicted_values = NaiveBayes.predict(Xtest)\n",
    "x = metrics.accuracy_score(Ytest, predicted_values)\n",
    "acc.append(x)\n",
    "model.append('Naive Bayes')\n",
    "print(\"Naive Bayes's Accuracy is: \", x)\n",
    "\n",
    "print(classification_report(Ytest,predicted_values))"
   ]
  },
  {
   "cell_type": "markdown",
   "id": "40064eff",
   "metadata": {},
   "source": [
    "## Support Vector Machine"
   ]
  },
  {
   "cell_type": "code",
   "execution_count": 57,
   "id": "23d11591",
   "metadata": {},
   "outputs": [
    {
     "name": "stdout",
     "output_type": "stream",
     "text": [
      "SVM's Accuracy is:  0.3502252252252252\n",
      "              precision    recall  f1-score   support\n",
      "\n",
      "           0       0.32      0.28      0.30       230\n",
      "           1       0.34      0.58      0.43       284\n",
      "           2       0.00      0.00      0.00        51\n",
      "           3       0.00      0.00      0.00        29\n",
      "           4       0.00      0.00      0.00        24\n",
      "           5       0.41      0.36      0.38       226\n",
      "           6       0.00      0.00      0.00        44\n",
      "\n",
      "    accuracy                           0.35       888\n",
      "   macro avg       0.15      0.17      0.16       888\n",
      "weighted avg       0.29      0.35      0.31       888\n",
      "\n"
     ]
    }
   ],
   "source": [
    "from sklearn.svm import SVC\n",
    "\n",
    "SVM = SVC(gamma='auto')\n",
    "\n",
    "SVM.fit(Xtrain,Ytrain)\n",
    "\n",
    "predicted_values = SVM.predict(Xtest)\n",
    "\n",
    "x = metrics.accuracy_score(Ytest, predicted_values)\n",
    "acc.append(x)\n",
    "model.append('SVM')\n",
    "print(\"SVM's Accuracy is: \", x)\n",
    "\n",
    "print(classification_report(Ytest,predicted_values))"
   ]
  },
  {
   "cell_type": "markdown",
   "id": "43d7aa28",
   "metadata": {},
   "source": [
    "## RandomForestClassifier"
   ]
  },
  {
   "cell_type": "code",
   "execution_count": 58,
   "id": "5f49d9db",
   "metadata": {},
   "outputs": [
    {
     "name": "stdout",
     "output_type": "stream",
     "text": [
      "RF's Accuracy is:  0.3153153153153153\n",
      "              precision    recall  f1-score   support\n",
      "\n",
      "           0       0.33      0.39      0.36       230\n",
      "           1       0.34      0.35      0.35       284\n",
      "           2       0.00      0.00      0.00        51\n",
      "           3       0.09      0.03      0.05        29\n",
      "           4       0.10      0.04      0.06        24\n",
      "           5       0.31      0.39      0.34       226\n",
      "           6       0.11      0.02      0.04        44\n",
      "\n",
      "    accuracy                           0.32       888\n",
      "   macro avg       0.18      0.18      0.17       888\n",
      "weighted avg       0.28      0.32      0.30       888\n",
      "\n"
     ]
    }
   ],
   "source": [
    "from sklearn.ensemble import RandomForestClassifier\n",
    "\n",
    "RF = RandomForestClassifier(n_estimators=20, random_state=0)\n",
    "RF.fit(Xtrain,Ytrain)\n",
    "\n",
    "predicted_values = RF.predict(Xtest)\n",
    "\n",
    "x = metrics.accuracy_score(Ytest, predicted_values)\n",
    "acc.append(x)\n",
    "model.append('RF')\n",
    "print(\"RF's Accuracy is: \", x)\n",
    "\n",
    "print(classification_report(Ytest,predicted_values))"
   ]
  },
  {
   "cell_type": "code",
   "execution_count": 59,
   "id": "8b00278e",
   "metadata": {},
   "outputs": [],
   "source": [
    "# # Use the random grid to search for best hyperparameters\n",
    "# # First create the base model to tune\n",
    "\n",
    "# from sklearn.model_selection import RandomizedSearchCV\n",
    "# rf_random = RandomizedSearchCV(estimator = RF, param_distributions = random_grid,scoring='neg_mean_squared_error', n_iter = 10, cv = 5, verbose=2, random_state=42, n_jobs = 1)\n"
   ]
  },
  {
   "cell_type": "code",
   "execution_count": 60,
   "id": "cd07819a",
   "metadata": {},
   "outputs": [],
   "source": [
    "import pickle\n",
    "# Dump the trained Naive Bayes classifier with Pickle\n",
    "DT_pkl_filename = 'DecisionTreeClassifier.pkl'\n",
    "# Open the file to save as pkl file\n",
    "DT_Model_pkl = open(DT_pkl_filename, 'wb')\n",
    "pickle.dump(DecisionTree, DT_Model_pkl)\n",
    "# Close the pickle instances\n",
    "DT_Model_pkl.close()"
   ]
  },
  {
   "cell_type": "code",
   "execution_count": null,
   "id": "c9e18c71",
   "metadata": {},
   "outputs": [],
   "source": []
  }
 ],
 "metadata": {
  "kernelspec": {
   "display_name": "Python 3 (ipykernel)",
   "language": "python",
   "name": "python3"
  },
  "language_info": {
   "codemirror_mode": {
    "name": "ipython",
    "version": 3
   },
   "file_extension": ".py",
   "mimetype": "text/x-python",
   "name": "python",
   "nbconvert_exporter": "python",
   "pygments_lexer": "ipython3",
   "version": "3.10.4"
  },
  "vscode": {
   "interpreter": {
    "hash": "6f4a05a1895508bd81354744926f6083bc2072227c29ef7653a64310bfa3e749"
   }
  }
 },
 "nbformat": 4,
 "nbformat_minor": 5
}
