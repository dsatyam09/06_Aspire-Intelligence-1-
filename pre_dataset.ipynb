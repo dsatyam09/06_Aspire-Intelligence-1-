{
 "cells": [
  {
   "cell_type": "code",
   "execution_count": 33,
   "id": "3976c2fd",
   "metadata": {},
   "outputs": [
    {
     "name": "stdout",
     "output_type": "stream",
     "text": [
      "Requirement already satisfied: seaborn in d:\\06_aspire-intelligence-1-\\lib\\site-packages (0.12.0)Note: you may need to restart the kernel to use updated packages.\n",
      "\n",
      "Requirement already satisfied: pandas>=0.25 in d:\\06_aspire-intelligence-1-\\lib\\site-packages (from seaborn) (1.5.0)\n",
      "Requirement already satisfied: matplotlib>=3.1 in d:\\06_aspire-intelligence-1-\\lib\\site-packages (from seaborn) (3.6.0)\n",
      "Requirement already satisfied: numpy>=1.17 in d:\\06_aspire-intelligence-1-\\lib\\site-packages (from seaborn) (1.23.3)\n",
      "Requirement already satisfied: cycler>=0.10 in d:\\06_aspire-intelligence-1-\\lib\\site-packages (from matplotlib>=3.1->seaborn) (0.11.0)\n",
      "Requirement already satisfied: fonttools>=4.22.0 in d:\\06_aspire-intelligence-1-\\lib\\site-packages (from matplotlib>=3.1->seaborn) (4.37.4)\n",
      "Requirement already satisfied: python-dateutil>=2.7 in d:\\06_aspire-intelligence-1-\\lib\\site-packages (from matplotlib>=3.1->seaborn) (2.8.2)\n",
      "Requirement already satisfied: kiwisolver>=1.0.1 in d:\\06_aspire-intelligence-1-\\lib\\site-packages (from matplotlib>=3.1->seaborn) (1.4.4)\n",
      "Requirement already satisfied: pillow>=6.2.0 in d:\\06_aspire-intelligence-1-\\lib\\site-packages (from matplotlib>=3.1->seaborn) (9.2.0)\n",
      "Requirement already satisfied: packaging>=20.0 in d:\\06_aspire-intelligence-1-\\lib\\site-packages (from matplotlib>=3.1->seaborn) (21.3)\n",
      "Requirement already satisfied: contourpy>=1.0.1 in d:\\06_aspire-intelligence-1-\\lib\\site-packages (from matplotlib>=3.1->seaborn) (1.0.5)\n",
      "Requirement already satisfied: pyparsing>=2.2.1 in d:\\06_aspire-intelligence-1-\\lib\\site-packages (from matplotlib>=3.1->seaborn) (3.0.9)\n",
      "Requirement already satisfied: pytz>=2020.1 in d:\\06_aspire-intelligence-1-\\lib\\site-packages (from pandas>=0.25->seaborn) (2022.2.1)\n",
      "Requirement already satisfied: six>=1.5 in d:\\06_aspire-intelligence-1-\\lib\\site-packages (from python-dateutil>=2.7->matplotlib>=3.1->seaborn) (1.16.0)\n"
     ]
    },
    {
     "name": "stderr",
     "output_type": "stream",
     "text": [
      "\n",
      "[notice] A new release of pip available: 22.2.1 -> 22.2.2\n",
      "[notice] To update, run: python.exe -m pip install --upgrade pip\n"
     ]
    }
   ],
   "source": [
    "pip install seaborn"
   ]
  },
  {
   "cell_type": "code",
   "execution_count": 34,
   "id": "5c9af95f",
   "metadata": {},
   "outputs": [
    {
     "name": "stdout",
     "output_type": "stream",
     "text": [
      "Requirement already satisfied: scikit-learn in d:\\06_aspire-intelligence-1-\\lib\\site-packages (1.1.2)Note: you may need to restart the kernel to use updated packages.\n",
      "\n",
      "Requirement already satisfied: numpy>=1.17.3 in d:\\06_aspire-intelligence-1-\\lib\\site-packages (from scikit-learn) (1.23.3)\n",
      "Requirement already satisfied: threadpoolctl>=2.0.0 in d:\\06_aspire-intelligence-1-\\lib\\site-packages (from scikit-learn) (3.1.0)\n",
      "Requirement already satisfied: joblib>=1.0.0 in d:\\06_aspire-intelligence-1-\\lib\\site-packages (from scikit-learn) (1.2.0)\n",
      "Requirement already satisfied: scipy>=1.3.2 in d:\\06_aspire-intelligence-1-\\lib\\site-packages (from scikit-learn) (1.9.1)\n"
     ]
    },
    {
     "name": "stderr",
     "output_type": "stream",
     "text": [
      "\n",
      "[notice] A new release of pip available: 22.2.1 -> 22.2.2\n",
      "[notice] To update, run: python.exe -m pip install --upgrade pip\n"
     ]
    }
   ],
   "source": [
    "pip install scikit-learn"
   ]
  },
  {
   "cell_type": "code",
   "execution_count": 35,
   "id": "e39ff1e3",
   "metadata": {},
   "outputs": [],
   "source": [
    "\n",
    "import pandas as pd\n",
    "import numpy as np\n",
    "import matplotlib.pyplot as plt\n",
    "import seaborn as sns\n",
    "from sklearn.metrics import classification_report\n",
    "from sklearn import metrics\n",
    "from sklearn import tree\n",
    "import warnings\n",
    "warnings.filterwarnings('ignore')"
   ]
  },
  {
   "cell_type": "code",
   "execution_count": 36,
   "id": "7426aadc",
   "metadata": {},
   "outputs": [],
   "source": [
    "#PATH = 'covid_19_in_education.xlsx'\n",
    "df = pd.read_csv('covid_19_in_education.csv')"
   ]
  },
  {
   "cell_type": "code",
   "execution_count": 37,
   "id": "119cfc6a",
   "metadata": {},
   "outputs": [
    {
     "data": {
      "text/html": [
       "<div>\n",
       "<style scoped>\n",
       "    .dataframe tbody tr th:only-of-type {\n",
       "        vertical-align: middle;\n",
       "    }\n",
       "\n",
       "    .dataframe tbody tr th {\n",
       "        vertical-align: top;\n",
       "    }\n",
       "\n",
       "    .dataframe thead th {\n",
       "        text-align: right;\n",
       "    }\n",
       "</style>\n",
       "<table border=\"1\" class=\"dataframe\">\n",
       "  <thead>\n",
       "    <tr style=\"text-align: right;\">\n",
       "      <th></th>\n",
       "      <th>submission_id</th>\n",
       "      <th>submission_date</th>\n",
       "      <th>gender</th>\n",
       "      <th>age</th>\n",
       "      <th>geography</th>\n",
       "      <th>financial_situation</th>\n",
       "      <th>education</th>\n",
       "      <th>employment_status</th>\n",
       "      <th>submission_state</th>\n",
       "      <th>can_children_observe_deterioration_of_basic_services_of_school</th>\n",
       "      <th>do_children_3_and_17_yrs_receive_regular_school_meals</th>\n",
       "      <th>are_there_teachers_at_scheduled_class_hours</th>\n",
       "    </tr>\n",
       "  </thead>\n",
       "  <tbody>\n",
       "    <tr>\n",
       "      <th>0</th>\n",
       "      <td>4.570000e+15</td>\n",
       "      <td>17-03-2021</td>\n",
       "      <td>Female</td>\n",
       "      <td>Over 45 years old</td>\n",
       "      <td>Suburban/Peri-urban</td>\n",
       "      <td>I can afford food and regular expenses, but no...</td>\n",
       "      <td>University or college degree completed</td>\n",
       "      <td>I am unemployed</td>\n",
       "      <td>Miranda</td>\n",
       "      <td>1</td>\n",
       "      <td>Every day</td>\n",
       "      <td>Irregularly</td>\n",
       "    </tr>\n",
       "    <tr>\n",
       "      <th>1</th>\n",
       "      <td>6.440000e+15</td>\n",
       "      <td>29-03-2021</td>\n",
       "      <td>Male</td>\n",
       "      <td>26 to 35 years old</td>\n",
       "      <td>Suburban/Peri-urban</td>\n",
       "      <td>I cannot afford enough food for my family</td>\n",
       "      <td>University or college degree completed</td>\n",
       "      <td>I am unemployed</td>\n",
       "      <td>Miranda</td>\n",
       "      <td>1</td>\n",
       "      <td>No</td>\n",
       "      <td>Irregularly</td>\n",
       "    </tr>\n",
       "    <tr>\n",
       "      <th>2</th>\n",
       "      <td>5.000000e+15</td>\n",
       "      <td>18-03-2021</td>\n",
       "      <td>Female</td>\n",
       "      <td>26 to 35 years old</td>\n",
       "      <td>City center or metropolitan area</td>\n",
       "      <td>I can comfortably afford food, clothes, and fu...</td>\n",
       "      <td>University or college degree completed</td>\n",
       "      <td>I work full-time, either as an employee or sel...</td>\n",
       "      <td>Miranda</td>\n",
       "      <td>1</td>\n",
       "      <td>No</td>\n",
       "      <td>There are not enough</td>\n",
       "    </tr>\n",
       "    <tr>\n",
       "      <th>3</th>\n",
       "      <td>5.520000e+15</td>\n",
       "      <td>24-03-2021</td>\n",
       "      <td>Male</td>\n",
       "      <td>36 to 45 years old</td>\n",
       "      <td>Suburban/Peri-urban</td>\n",
       "      <td>I can afford food, but nothing else</td>\n",
       "      <td>University or college degree completed</td>\n",
       "      <td>I work full-time, either as an employee or sel...</td>\n",
       "      <td>Miranda</td>\n",
       "      <td>1</td>\n",
       "      <td>No</td>\n",
       "      <td>There are enough</td>\n",
       "    </tr>\n",
       "    <tr>\n",
       "      <th>4</th>\n",
       "      <td>5.030000e+15</td>\n",
       "      <td>18-03-2021</td>\n",
       "      <td>Female</td>\n",
       "      <td>Over 45 years old</td>\n",
       "      <td>Suburban/Peri-urban</td>\n",
       "      <td>I can afford food and regular expenses, but no...</td>\n",
       "      <td>University or college degree completed</td>\n",
       "      <td>I am unemployed</td>\n",
       "      <td>Miranda</td>\n",
       "      <td>1</td>\n",
       "      <td>No</td>\n",
       "      <td>There are not enough</td>\n",
       "    </tr>\n",
       "  </tbody>\n",
       "</table>\n",
       "</div>"
      ],
      "text/plain": [
       "   submission_id submission_date  gender                 age  \\\n",
       "0   4.570000e+15      17-03-2021  Female   Over 45 years old   \n",
       "1   6.440000e+15      29-03-2021    Male  26 to 35 years old   \n",
       "2   5.000000e+15      18-03-2021  Female  26 to 35 years old   \n",
       "3   5.520000e+15      24-03-2021    Male  36 to 45 years old   \n",
       "4   5.030000e+15      18-03-2021  Female   Over 45 years old   \n",
       "\n",
       "                          geography  \\\n",
       "0               Suburban/Peri-urban   \n",
       "1               Suburban/Peri-urban   \n",
       "2  City center or metropolitan area   \n",
       "3               Suburban/Peri-urban   \n",
       "4               Suburban/Peri-urban   \n",
       "\n",
       "                                 financial_situation  \\\n",
       "0  I can afford food and regular expenses, but no...   \n",
       "1          I cannot afford enough food for my family   \n",
       "2  I can comfortably afford food, clothes, and fu...   \n",
       "3                I can afford food, but nothing else   \n",
       "4  I can afford food and regular expenses, but no...   \n",
       "\n",
       "                                education  \\\n",
       "0  University or college degree completed   \n",
       "1  University or college degree completed   \n",
       "2  University or college degree completed   \n",
       "3  University or college degree completed   \n",
       "4  University or college degree completed   \n",
       "\n",
       "                                   employment_status submission_state  \\\n",
       "0                                    I am unemployed          Miranda   \n",
       "1                                    I am unemployed          Miranda   \n",
       "2  I work full-time, either as an employee or sel...          Miranda   \n",
       "3  I work full-time, either as an employee or sel...          Miranda   \n",
       "4                                    I am unemployed          Miranda   \n",
       "\n",
       "   can_children_observe_deterioration_of_basic_services_of_school  \\\n",
       "0                                                  1                \n",
       "1                                                  1                \n",
       "2                                                  1                \n",
       "3                                                  1                \n",
       "4                                                  1                \n",
       "\n",
       "  do_children_3_and_17_yrs_receive_regular_school_meals  \\\n",
       "0                                          Every day      \n",
       "1                                                 No      \n",
       "2                                                 No      \n",
       "3                                                 No      \n",
       "4                                                 No      \n",
       "\n",
       "  are_there_teachers_at_scheduled_class_hours  \n",
       "0                                 Irregularly  \n",
       "1                                 Irregularly  \n",
       "2                        There are not enough  \n",
       "3                            There are enough  \n",
       "4                        There are not enough  "
      ]
     },
     "execution_count": 37,
     "metadata": {},
     "output_type": "execute_result"
    }
   ],
   "source": [
    "df.head()"
   ]
  },
  {
   "cell_type": "markdown",
   "id": "08cc2597",
   "metadata": {},
   "source": [
    "deleting unnecessary columns"
   ]
  },
  {
   "cell_type": "code",
   "execution_count": 38,
   "id": "b15d4fd5",
   "metadata": {},
   "outputs": [],
   "source": [
    "df = df.drop('submission_id', axis=1)\n",
    "df = df.drop('submission_date', axis=1)\n",
    "# df = df.drop('Unnamed: 9', axis=1)"
   ]
  },
  {
   "cell_type": "code",
   "execution_count": 39,
   "id": "b0cdf879",
   "metadata": {},
   "outputs": [
    {
     "data": {
      "text/html": [
       "<div>\n",
       "<style scoped>\n",
       "    .dataframe tbody tr th:only-of-type {\n",
       "        vertical-align: middle;\n",
       "    }\n",
       "\n",
       "    .dataframe tbody tr th {\n",
       "        vertical-align: top;\n",
       "    }\n",
       "\n",
       "    .dataframe thead th {\n",
       "        text-align: right;\n",
       "    }\n",
       "</style>\n",
       "<table border=\"1\" class=\"dataframe\">\n",
       "  <thead>\n",
       "    <tr style=\"text-align: right;\">\n",
       "      <th></th>\n",
       "      <th>gender</th>\n",
       "      <th>age</th>\n",
       "      <th>geography</th>\n",
       "      <th>financial_situation</th>\n",
       "      <th>education</th>\n",
       "      <th>employment_status</th>\n",
       "      <th>submission_state</th>\n",
       "      <th>can_children_observe_deterioration_of_basic_services_of_school</th>\n",
       "      <th>do_children_3_and_17_yrs_receive_regular_school_meals</th>\n",
       "      <th>are_there_teachers_at_scheduled_class_hours</th>\n",
       "    </tr>\n",
       "  </thead>\n",
       "  <tbody>\n",
       "    <tr>\n",
       "      <th>0</th>\n",
       "      <td>Female</td>\n",
       "      <td>Over 45 years old</td>\n",
       "      <td>Suburban/Peri-urban</td>\n",
       "      <td>I can afford food and regular expenses, but no...</td>\n",
       "      <td>University or college degree completed</td>\n",
       "      <td>I am unemployed</td>\n",
       "      <td>Miranda</td>\n",
       "      <td>1</td>\n",
       "      <td>Every day</td>\n",
       "      <td>Irregularly</td>\n",
       "    </tr>\n",
       "    <tr>\n",
       "      <th>1</th>\n",
       "      <td>Male</td>\n",
       "      <td>26 to 35 years old</td>\n",
       "      <td>Suburban/Peri-urban</td>\n",
       "      <td>I cannot afford enough food for my family</td>\n",
       "      <td>University or college degree completed</td>\n",
       "      <td>I am unemployed</td>\n",
       "      <td>Miranda</td>\n",
       "      <td>1</td>\n",
       "      <td>No</td>\n",
       "      <td>Irregularly</td>\n",
       "    </tr>\n",
       "    <tr>\n",
       "      <th>2</th>\n",
       "      <td>Female</td>\n",
       "      <td>26 to 35 years old</td>\n",
       "      <td>City center or metropolitan area</td>\n",
       "      <td>I can comfortably afford food, clothes, and fu...</td>\n",
       "      <td>University or college degree completed</td>\n",
       "      <td>I work full-time, either as an employee or sel...</td>\n",
       "      <td>Miranda</td>\n",
       "      <td>1</td>\n",
       "      <td>No</td>\n",
       "      <td>There are not enough</td>\n",
       "    </tr>\n",
       "    <tr>\n",
       "      <th>3</th>\n",
       "      <td>Male</td>\n",
       "      <td>36 to 45 years old</td>\n",
       "      <td>Suburban/Peri-urban</td>\n",
       "      <td>I can afford food, but nothing else</td>\n",
       "      <td>University or college degree completed</td>\n",
       "      <td>I work full-time, either as an employee or sel...</td>\n",
       "      <td>Miranda</td>\n",
       "      <td>1</td>\n",
       "      <td>No</td>\n",
       "      <td>There are enough</td>\n",
       "    </tr>\n",
       "    <tr>\n",
       "      <th>4</th>\n",
       "      <td>Female</td>\n",
       "      <td>Over 45 years old</td>\n",
       "      <td>Suburban/Peri-urban</td>\n",
       "      <td>I can afford food and regular expenses, but no...</td>\n",
       "      <td>University or college degree completed</td>\n",
       "      <td>I am unemployed</td>\n",
       "      <td>Miranda</td>\n",
       "      <td>1</td>\n",
       "      <td>No</td>\n",
       "      <td>There are not enough</td>\n",
       "    </tr>\n",
       "  </tbody>\n",
       "</table>\n",
       "</div>"
      ],
      "text/plain": [
       "   gender                 age                         geography  \\\n",
       "0  Female   Over 45 years old               Suburban/Peri-urban   \n",
       "1    Male  26 to 35 years old               Suburban/Peri-urban   \n",
       "2  Female  26 to 35 years old  City center or metropolitan area   \n",
       "3    Male  36 to 45 years old               Suburban/Peri-urban   \n",
       "4  Female   Over 45 years old               Suburban/Peri-urban   \n",
       "\n",
       "                                 financial_situation  \\\n",
       "0  I can afford food and regular expenses, but no...   \n",
       "1          I cannot afford enough food for my family   \n",
       "2  I can comfortably afford food, clothes, and fu...   \n",
       "3                I can afford food, but nothing else   \n",
       "4  I can afford food and regular expenses, but no...   \n",
       "\n",
       "                                education  \\\n",
       "0  University or college degree completed   \n",
       "1  University or college degree completed   \n",
       "2  University or college degree completed   \n",
       "3  University or college degree completed   \n",
       "4  University or college degree completed   \n",
       "\n",
       "                                   employment_status submission_state  \\\n",
       "0                                    I am unemployed          Miranda   \n",
       "1                                    I am unemployed          Miranda   \n",
       "2  I work full-time, either as an employee or sel...          Miranda   \n",
       "3  I work full-time, either as an employee or sel...          Miranda   \n",
       "4                                    I am unemployed          Miranda   \n",
       "\n",
       "   can_children_observe_deterioration_of_basic_services_of_school  \\\n",
       "0                                                  1                \n",
       "1                                                  1                \n",
       "2                                                  1                \n",
       "3                                                  1                \n",
       "4                                                  1                \n",
       "\n",
       "  do_children_3_and_17_yrs_receive_regular_school_meals  \\\n",
       "0                                          Every day      \n",
       "1                                                 No      \n",
       "2                                                 No      \n",
       "3                                                 No      \n",
       "4                                                 No      \n",
       "\n",
       "  are_there_teachers_at_scheduled_class_hours  \n",
       "0                                 Irregularly  \n",
       "1                                 Irregularly  \n",
       "2                        There are not enough  \n",
       "3                            There are enough  \n",
       "4                        There are not enough  "
      ]
     },
     "execution_count": 39,
     "metadata": {},
     "output_type": "execute_result"
    }
   ],
   "source": [
    "df.head()"
   ]
  },
  {
   "cell_type": "markdown",
   "id": "e8c3351f",
   "metadata": {},
   "source": [
    "finding unique values in \"age\" column"
   ]
  },
  {
   "cell_type": "code",
   "execution_count": 40,
   "id": "9aa2476f",
   "metadata": {},
   "outputs": [
    {
     "name": "stdout",
     "output_type": "stream",
     "text": [
      "No.of.unique values : 6\n"
     ]
    }
   ],
   "source": [
    "n = len(pd.unique(df['age']))\n",
    "print(\"No.of.unique values :\",n)"
   ]
  },
  {
   "cell_type": "code",
   "execution_count": 41,
   "id": "ba013833",
   "metadata": {},
   "outputs": [
    {
     "name": "stdout",
     "output_type": "stream",
     "text": [
      "['16 to 25 years old', '26 to 35 years old', '36 to 45 years old', 'Not Available', 'Over 45 years old', 'Under 16']\n"
     ]
    }
   ],
   "source": [
    "a = df['age'].unique()\n",
    "print(sorted(a))"
   ]
  },
  {
   "cell_type": "code",
   "execution_count": 42,
   "id": "e0074a20",
   "metadata": {},
   "outputs": [
    {
     "data": {
      "text/html": [
       "<div>\n",
       "<style scoped>\n",
       "    .dataframe tbody tr th:only-of-type {\n",
       "        vertical-align: middle;\n",
       "    }\n",
       "\n",
       "    .dataframe tbody tr th {\n",
       "        vertical-align: top;\n",
       "    }\n",
       "\n",
       "    .dataframe thead th {\n",
       "        text-align: right;\n",
       "    }\n",
       "</style>\n",
       "<table border=\"1\" class=\"dataframe\">\n",
       "  <thead>\n",
       "    <tr style=\"text-align: right;\">\n",
       "      <th></th>\n",
       "      <th>gender</th>\n",
       "      <th>age</th>\n",
       "      <th>geography</th>\n",
       "      <th>financial_situation</th>\n",
       "      <th>education</th>\n",
       "      <th>employment_status</th>\n",
       "      <th>submission_state</th>\n",
       "      <th>can_children_observe_deterioration_of_basic_services_of_school</th>\n",
       "      <th>do_children_3_and_17_yrs_receive_regular_school_meals</th>\n",
       "      <th>are_there_teachers_at_scheduled_class_hours</th>\n",
       "    </tr>\n",
       "  </thead>\n",
       "  <tbody>\n",
       "    <tr>\n",
       "      <th>0</th>\n",
       "      <td>Female</td>\n",
       "      <td>Over 45 years old</td>\n",
       "      <td>Suburban/Peri-urban</td>\n",
       "      <td>I can afford food and regular expenses, but no...</td>\n",
       "      <td>University or college degree completed</td>\n",
       "      <td>I am unemployed</td>\n",
       "      <td>Miranda</td>\n",
       "      <td>1</td>\n",
       "      <td>Every day</td>\n",
       "      <td>Irregularly</td>\n",
       "    </tr>\n",
       "    <tr>\n",
       "      <th>1</th>\n",
       "      <td>Male</td>\n",
       "      <td>26 to 35 years old</td>\n",
       "      <td>Suburban/Peri-urban</td>\n",
       "      <td>I cannot afford enough food for my family</td>\n",
       "      <td>University or college degree completed</td>\n",
       "      <td>I am unemployed</td>\n",
       "      <td>Miranda</td>\n",
       "      <td>1</td>\n",
       "      <td>No</td>\n",
       "      <td>Irregularly</td>\n",
       "    </tr>\n",
       "    <tr>\n",
       "      <th>2</th>\n",
       "      <td>Female</td>\n",
       "      <td>26 to 35 years old</td>\n",
       "      <td>City center or metropolitan area</td>\n",
       "      <td>I can comfortably afford food, clothes, and fu...</td>\n",
       "      <td>University or college degree completed</td>\n",
       "      <td>I work full-time, either as an employee or sel...</td>\n",
       "      <td>Miranda</td>\n",
       "      <td>1</td>\n",
       "      <td>No</td>\n",
       "      <td>There are not enough</td>\n",
       "    </tr>\n",
       "    <tr>\n",
       "      <th>3</th>\n",
       "      <td>Male</td>\n",
       "      <td>36 to 45 years old</td>\n",
       "      <td>Suburban/Peri-urban</td>\n",
       "      <td>I can afford food, but nothing else</td>\n",
       "      <td>University or college degree completed</td>\n",
       "      <td>I work full-time, either as an employee or sel...</td>\n",
       "      <td>Miranda</td>\n",
       "      <td>1</td>\n",
       "      <td>No</td>\n",
       "      <td>There are enough</td>\n",
       "    </tr>\n",
       "    <tr>\n",
       "      <th>4</th>\n",
       "      <td>Female</td>\n",
       "      <td>Over 45 years old</td>\n",
       "      <td>Suburban/Peri-urban</td>\n",
       "      <td>I can afford food and regular expenses, but no...</td>\n",
       "      <td>University or college degree completed</td>\n",
       "      <td>I am unemployed</td>\n",
       "      <td>Miranda</td>\n",
       "      <td>1</td>\n",
       "      <td>No</td>\n",
       "      <td>There are not enough</td>\n",
       "    </tr>\n",
       "  </tbody>\n",
       "</table>\n",
       "</div>"
      ],
      "text/plain": [
       "   gender                 age                         geography  \\\n",
       "0  Female   Over 45 years old               Suburban/Peri-urban   \n",
       "1    Male  26 to 35 years old               Suburban/Peri-urban   \n",
       "2  Female  26 to 35 years old  City center or metropolitan area   \n",
       "3    Male  36 to 45 years old               Suburban/Peri-urban   \n",
       "4  Female   Over 45 years old               Suburban/Peri-urban   \n",
       "\n",
       "                                 financial_situation  \\\n",
       "0  I can afford food and regular expenses, but no...   \n",
       "1          I cannot afford enough food for my family   \n",
       "2  I can comfortably afford food, clothes, and fu...   \n",
       "3                I can afford food, but nothing else   \n",
       "4  I can afford food and regular expenses, but no...   \n",
       "\n",
       "                                education  \\\n",
       "0  University or college degree completed   \n",
       "1  University or college degree completed   \n",
       "2  University or college degree completed   \n",
       "3  University or college degree completed   \n",
       "4  University or college degree completed   \n",
       "\n",
       "                                   employment_status submission_state  \\\n",
       "0                                    I am unemployed          Miranda   \n",
       "1                                    I am unemployed          Miranda   \n",
       "2  I work full-time, either as an employee or sel...          Miranda   \n",
       "3  I work full-time, either as an employee or sel...          Miranda   \n",
       "4                                    I am unemployed          Miranda   \n",
       "\n",
       "   can_children_observe_deterioration_of_basic_services_of_school  \\\n",
       "0                                                  1                \n",
       "1                                                  1                \n",
       "2                                                  1                \n",
       "3                                                  1                \n",
       "4                                                  1                \n",
       "\n",
       "  do_children_3_and_17_yrs_receive_regular_school_meals  \\\n",
       "0                                          Every day      \n",
       "1                                                 No      \n",
       "2                                                 No      \n",
       "3                                                 No      \n",
       "4                                                 No      \n",
       "\n",
       "  are_there_teachers_at_scheduled_class_hours  \n",
       "0                                 Irregularly  \n",
       "1                                 Irregularly  \n",
       "2                        There are not enough  \n",
       "3                            There are enough  \n",
       "4                        There are not enough  "
      ]
     },
     "execution_count": 42,
     "metadata": {},
     "output_type": "execute_result"
    }
   ],
   "source": [
    "df.head()"
   ]
  },
  {
   "cell_type": "code",
   "execution_count": 43,
   "id": "45194286",
   "metadata": {
    "scrolled": false
   },
   "outputs": [
    {
     "name": "stdout",
     "output_type": "stream",
     "text": [
      "gender                                                            object\n",
      "age                                                               object\n",
      "geography                                                         object\n",
      "financial_situation                                               object\n",
      "education                                                         object\n",
      "employment_status                                                 object\n",
      "submission_state                                                  object\n",
      "can_children_observe_deterioration_of_basic_services_of_school     int64\n",
      "do_children_3_and_17_yrs_receive_regular_school_meals             object\n",
      "are_there_teachers_at_scheduled_class_hours                       object\n",
      "dtype: object\n"
     ]
    }
   ],
   "source": [
    "#df['gender'] = int(df['gender'])\n",
    "print (df.dtypes)"
   ]
  },
  {
   "cell_type": "code",
   "execution_count": 44,
   "id": "77ae477e",
   "metadata": {},
   "outputs": [
    {
     "name": "stdout",
     "output_type": "stream",
     "text": [
      "No.of.unique values : 8\n",
      "\n",
      "['I can afford food and regular expenses, but nothing else', 'I can afford food, but nothing else', 'I can afford food, regular expenses, and clothes, but nothing else', 'I can comfortably afford food, clothes, and furniture, and I have savings', 'I can comfortably afford food, clothes, and furniture, but I don’t have savings', 'I cannot afford enough food for my family', 'Not Available', 'Prefer not to answer']\n"
     ]
    }
   ],
   "source": [
    "n = len(pd.unique(df['financial_situation']))\n",
    "print(\"No.of.unique values :\",n)\n",
    "\n",
    "print()\n",
    "\n",
    "a = df['financial_situation'].unique()\n",
    "print(sorted(a))"
   ]
  },
  {
   "cell_type": "code",
   "execution_count": 45,
   "id": "3ceb9425",
   "metadata": {},
   "outputs": [
    {
     "name": "stdout",
     "output_type": "stream",
     "text": [
      "No.of.unique values : 5\n",
      "\n",
      "['Female', 'Male', 'Non-Binary', 'Not Available', 'Prefer not to answer']\n"
     ]
    }
   ],
   "source": [
    "n = len(pd.unique(df['gender']))\n",
    "print(\"No.of.unique values :\",n)\n",
    "\n",
    "print()\n",
    "\n",
    "a = df['gender'].unique()\n",
    "print(sorted(a))"
   ]
  },
  {
   "cell_type": "code",
   "execution_count": 46,
   "id": "687e23ea",
   "metadata": {},
   "outputs": [],
   "source": [
    "df = df.drop('can_children_observe_deterioration_of_basic_services_of_school', axis=1)\n",
    "df = df.drop('do_children_3_and_17_yrs_receive_regular_school_meals', axis=1)\n",
    "df = df.drop('are_there_teachers_at_scheduled_class_hours', axis=1)\n"
   ]
  },
  {
   "cell_type": "code",
   "execution_count": 47,
   "id": "24d3364d",
   "metadata": {},
   "outputs": [
    {
     "name": "stdout",
     "output_type": "stream",
     "text": [
      "gender                 object\n",
      "age                    object\n",
      "geography              object\n",
      "financial_situation    object\n",
      "education              object\n",
      "employment_status      object\n",
      "submission_state       object\n",
      "dtype: object\n"
     ]
    }
   ],
   "source": [
    "print (df.dtypes)"
   ]
  },
  {
   "cell_type": "code",
   "execution_count": 48,
   "id": "4b9bb1aa",
   "metadata": {},
   "outputs": [],
   "source": [
    "final_data = pd.get_dummies(df, drop_first = True)"
   ]
  },
  {
   "cell_type": "code",
   "execution_count": 49,
   "id": "be96a581",
   "metadata": {},
   "outputs": [
    {
     "data": {
      "text/html": [
       "<div>\n",
       "<style scoped>\n",
       "    .dataframe tbody tr th:only-of-type {\n",
       "        vertical-align: middle;\n",
       "    }\n",
       "\n",
       "    .dataframe tbody tr th {\n",
       "        vertical-align: top;\n",
       "    }\n",
       "\n",
       "    .dataframe thead th {\n",
       "        text-align: right;\n",
       "    }\n",
       "</style>\n",
       "<table border=\"1\" class=\"dataframe\">\n",
       "  <thead>\n",
       "    <tr style=\"text-align: right;\">\n",
       "      <th></th>\n",
       "      <th>gender_Male</th>\n",
       "      <th>gender_Non-Binary</th>\n",
       "      <th>gender_Not Available</th>\n",
       "      <th>gender_Prefer not to answer</th>\n",
       "      <th>age_26 to 35 years old</th>\n",
       "      <th>age_36 to 45 years old</th>\n",
       "      <th>age_Not Available</th>\n",
       "      <th>age_Over 45 years old</th>\n",
       "      <th>age_Under 16</th>\n",
       "      <th>geography_Not Available</th>\n",
       "      <th>...</th>\n",
       "      <th>submission_state_Monagas</th>\n",
       "      <th>submission_state_Mérida</th>\n",
       "      <th>submission_state_Nueva Esparta</th>\n",
       "      <th>submission_state_Portuguesa</th>\n",
       "      <th>submission_state_Sucre</th>\n",
       "      <th>submission_state_Trujillo</th>\n",
       "      <th>submission_state_Táchira</th>\n",
       "      <th>submission_state_Vargas</th>\n",
       "      <th>submission_state_Yaracuy</th>\n",
       "      <th>submission_state_Zulia</th>\n",
       "    </tr>\n",
       "  </thead>\n",
       "  <tbody>\n",
       "    <tr>\n",
       "      <th>0</th>\n",
       "      <td>0</td>\n",
       "      <td>0</td>\n",
       "      <td>0</td>\n",
       "      <td>0</td>\n",
       "      <td>0</td>\n",
       "      <td>0</td>\n",
       "      <td>0</td>\n",
       "      <td>1</td>\n",
       "      <td>0</td>\n",
       "      <td>0</td>\n",
       "      <td>...</td>\n",
       "      <td>0</td>\n",
       "      <td>0</td>\n",
       "      <td>0</td>\n",
       "      <td>0</td>\n",
       "      <td>0</td>\n",
       "      <td>0</td>\n",
       "      <td>0</td>\n",
       "      <td>0</td>\n",
       "      <td>0</td>\n",
       "      <td>0</td>\n",
       "    </tr>\n",
       "    <tr>\n",
       "      <th>1</th>\n",
       "      <td>1</td>\n",
       "      <td>0</td>\n",
       "      <td>0</td>\n",
       "      <td>0</td>\n",
       "      <td>1</td>\n",
       "      <td>0</td>\n",
       "      <td>0</td>\n",
       "      <td>0</td>\n",
       "      <td>0</td>\n",
       "      <td>0</td>\n",
       "      <td>...</td>\n",
       "      <td>0</td>\n",
       "      <td>0</td>\n",
       "      <td>0</td>\n",
       "      <td>0</td>\n",
       "      <td>0</td>\n",
       "      <td>0</td>\n",
       "      <td>0</td>\n",
       "      <td>0</td>\n",
       "      <td>0</td>\n",
       "      <td>0</td>\n",
       "    </tr>\n",
       "    <tr>\n",
       "      <th>2</th>\n",
       "      <td>0</td>\n",
       "      <td>0</td>\n",
       "      <td>0</td>\n",
       "      <td>0</td>\n",
       "      <td>1</td>\n",
       "      <td>0</td>\n",
       "      <td>0</td>\n",
       "      <td>0</td>\n",
       "      <td>0</td>\n",
       "      <td>0</td>\n",
       "      <td>...</td>\n",
       "      <td>0</td>\n",
       "      <td>0</td>\n",
       "      <td>0</td>\n",
       "      <td>0</td>\n",
       "      <td>0</td>\n",
       "      <td>0</td>\n",
       "      <td>0</td>\n",
       "      <td>0</td>\n",
       "      <td>0</td>\n",
       "      <td>0</td>\n",
       "    </tr>\n",
       "    <tr>\n",
       "      <th>3</th>\n",
       "      <td>1</td>\n",
       "      <td>0</td>\n",
       "      <td>0</td>\n",
       "      <td>0</td>\n",
       "      <td>0</td>\n",
       "      <td>1</td>\n",
       "      <td>0</td>\n",
       "      <td>0</td>\n",
       "      <td>0</td>\n",
       "      <td>0</td>\n",
       "      <td>...</td>\n",
       "      <td>0</td>\n",
       "      <td>0</td>\n",
       "      <td>0</td>\n",
       "      <td>0</td>\n",
       "      <td>0</td>\n",
       "      <td>0</td>\n",
       "      <td>0</td>\n",
       "      <td>0</td>\n",
       "      <td>0</td>\n",
       "      <td>0</td>\n",
       "    </tr>\n",
       "    <tr>\n",
       "      <th>4</th>\n",
       "      <td>0</td>\n",
       "      <td>0</td>\n",
       "      <td>0</td>\n",
       "      <td>0</td>\n",
       "      <td>0</td>\n",
       "      <td>0</td>\n",
       "      <td>0</td>\n",
       "      <td>1</td>\n",
       "      <td>0</td>\n",
       "      <td>0</td>\n",
       "      <td>...</td>\n",
       "      <td>0</td>\n",
       "      <td>0</td>\n",
       "      <td>0</td>\n",
       "      <td>0</td>\n",
       "      <td>0</td>\n",
       "      <td>0</td>\n",
       "      <td>0</td>\n",
       "      <td>0</td>\n",
       "      <td>0</td>\n",
       "      <td>0</td>\n",
       "    </tr>\n",
       "  </tbody>\n",
       "</table>\n",
       "<p>5 rows × 71 columns</p>\n",
       "</div>"
      ],
      "text/plain": [
       "   gender_Male  gender_Non-Binary  gender_Not Available  \\\n",
       "0            0                  0                     0   \n",
       "1            1                  0                     0   \n",
       "2            0                  0                     0   \n",
       "3            1                  0                     0   \n",
       "4            0                  0                     0   \n",
       "\n",
       "   gender_Prefer not to answer  age_26 to 35 years old  \\\n",
       "0                            0                       0   \n",
       "1                            0                       1   \n",
       "2                            0                       1   \n",
       "3                            0                       0   \n",
       "4                            0                       0   \n",
       "\n",
       "   age_36 to 45 years old  age_Not Available  age_Over 45 years old  \\\n",
       "0                       0                  0                      1   \n",
       "1                       0                  0                      0   \n",
       "2                       0                  0                      0   \n",
       "3                       1                  0                      0   \n",
       "4                       0                  0                      1   \n",
       "\n",
       "   age_Under 16  geography_Not Available  ...  submission_state_Monagas  \\\n",
       "0             0                        0  ...                         0   \n",
       "1             0                        0  ...                         0   \n",
       "2             0                        0  ...                         0   \n",
       "3             0                        0  ...                         0   \n",
       "4             0                        0  ...                         0   \n",
       "\n",
       "   submission_state_Mérida  submission_state_Nueva Esparta  \\\n",
       "0                        0                               0   \n",
       "1                        0                               0   \n",
       "2                        0                               0   \n",
       "3                        0                               0   \n",
       "4                        0                               0   \n",
       "\n",
       "   submission_state_Portuguesa  submission_state_Sucre  \\\n",
       "0                            0                       0   \n",
       "1                            0                       0   \n",
       "2                            0                       0   \n",
       "3                            0                       0   \n",
       "4                            0                       0   \n",
       "\n",
       "   submission_state_Trujillo  submission_state_Táchira  \\\n",
       "0                          0                         0   \n",
       "1                          0                         0   \n",
       "2                          0                         0   \n",
       "3                          0                         0   \n",
       "4                          0                         0   \n",
       "\n",
       "   submission_state_Vargas  submission_state_Yaracuy  submission_state_Zulia  \n",
       "0                        0                         0                       0  \n",
       "1                        0                         0                       0  \n",
       "2                        0                         0                       0  \n",
       "3                        0                         0                       0  \n",
       "4                        0                         0                       0  \n",
       "\n",
       "[5 rows x 71 columns]"
      ]
     },
     "execution_count": 49,
     "metadata": {},
     "output_type": "execute_result"
    }
   ],
   "source": [
    "final_data.head()"
   ]
  },
  {
   "cell_type": "code",
   "execution_count": 52,
   "id": "810801d2",
   "metadata": {},
   "outputs": [],
   "source": [
    "from sklearn import preprocessing"
   ]
  },
  {
   "cell_type": "code",
   "execution_count": 53,
   "id": "8995f6e9",
   "metadata": {},
   "outputs": [],
   "source": [
    "label_encoder = preprocessing.LabelEncoder()\n",
    "df.copy()\n"
   ]
  },
  {
   "cell_type": "code",
   "execution_count": 54,
   "id": "925fd040",
   "metadata": {},
   "outputs": [],
   "source": [
    "df['financial_situation_label']= label_encoder.fit_transform(df['financial_situation'])"
   ]
  },
  {
   "cell_type": "code",
   "execution_count": 55,
   "id": "2e7e99b5",
   "metadata": {},
   "outputs": [
    {
     "data": {
      "text/plain": [
       "0       0\n",
       "1       5\n",
       "2       3\n",
       "3       1\n",
       "4       0\n",
       "       ..\n",
       "4431    1\n",
       "4432    1\n",
       "4433    2\n",
       "4434    0\n",
       "4435    0\n",
       "Name: financial_situation_label, Length: 4436, dtype: int32"
      ]
     },
     "execution_count": 55,
     "metadata": {},
     "output_type": "execute_result"
    }
   ],
   "source": [
    "df['financial_situation_label']"
   ]
  },
  {
   "cell_type": "code",
   "execution_count": 56,
   "id": "b6ed1d9a",
   "metadata": {},
   "outputs": [
    {
     "data": {
      "text/html": [
       "<div>\n",
       "<style scoped>\n",
       "    .dataframe tbody tr th:only-of-type {\n",
       "        vertical-align: middle;\n",
       "    }\n",
       "\n",
       "    .dataframe tbody tr th {\n",
       "        vertical-align: top;\n",
       "    }\n",
       "\n",
       "    .dataframe thead th {\n",
       "        text-align: right;\n",
       "    }\n",
       "</style>\n",
       "<table border=\"1\" class=\"dataframe\">\n",
       "  <thead>\n",
       "    <tr style=\"text-align: right;\">\n",
       "      <th></th>\n",
       "      <th>gender</th>\n",
       "      <th>age</th>\n",
       "      <th>geography</th>\n",
       "      <th>financial_situation</th>\n",
       "      <th>education</th>\n",
       "      <th>employment_status</th>\n",
       "      <th>submission_state</th>\n",
       "      <th>financial_situation_label</th>\n",
       "    </tr>\n",
       "  </thead>\n",
       "  <tbody>\n",
       "    <tr>\n",
       "      <th>0</th>\n",
       "      <td>Female</td>\n",
       "      <td>Over 45 years old</td>\n",
       "      <td>Suburban/Peri-urban</td>\n",
       "      <td>I can afford food and regular expenses, but no...</td>\n",
       "      <td>University or college degree completed</td>\n",
       "      <td>I am unemployed</td>\n",
       "      <td>Miranda</td>\n",
       "      <td>0</td>\n",
       "    </tr>\n",
       "    <tr>\n",
       "      <th>1</th>\n",
       "      <td>Male</td>\n",
       "      <td>26 to 35 years old</td>\n",
       "      <td>Suburban/Peri-urban</td>\n",
       "      <td>I cannot afford enough food for my family</td>\n",
       "      <td>University or college degree completed</td>\n",
       "      <td>I am unemployed</td>\n",
       "      <td>Miranda</td>\n",
       "      <td>5</td>\n",
       "    </tr>\n",
       "    <tr>\n",
       "      <th>2</th>\n",
       "      <td>Female</td>\n",
       "      <td>26 to 35 years old</td>\n",
       "      <td>City center or metropolitan area</td>\n",
       "      <td>I can comfortably afford food, clothes, and fu...</td>\n",
       "      <td>University or college degree completed</td>\n",
       "      <td>I work full-time, either as an employee or sel...</td>\n",
       "      <td>Miranda</td>\n",
       "      <td>3</td>\n",
       "    </tr>\n",
       "    <tr>\n",
       "      <th>3</th>\n",
       "      <td>Male</td>\n",
       "      <td>36 to 45 years old</td>\n",
       "      <td>Suburban/Peri-urban</td>\n",
       "      <td>I can afford food, but nothing else</td>\n",
       "      <td>University or college degree completed</td>\n",
       "      <td>I work full-time, either as an employee or sel...</td>\n",
       "      <td>Miranda</td>\n",
       "      <td>1</td>\n",
       "    </tr>\n",
       "    <tr>\n",
       "      <th>4</th>\n",
       "      <td>Female</td>\n",
       "      <td>Over 45 years old</td>\n",
       "      <td>Suburban/Peri-urban</td>\n",
       "      <td>I can afford food and regular expenses, but no...</td>\n",
       "      <td>University or college degree completed</td>\n",
       "      <td>I am unemployed</td>\n",
       "      <td>Miranda</td>\n",
       "      <td>0</td>\n",
       "    </tr>\n",
       "  </tbody>\n",
       "</table>\n",
       "</div>"
      ],
      "text/plain": [
       "   gender                 age                         geography  \\\n",
       "0  Female   Over 45 years old               Suburban/Peri-urban   \n",
       "1    Male  26 to 35 years old               Suburban/Peri-urban   \n",
       "2  Female  26 to 35 years old  City center or metropolitan area   \n",
       "3    Male  36 to 45 years old               Suburban/Peri-urban   \n",
       "4  Female   Over 45 years old               Suburban/Peri-urban   \n",
       "\n",
       "                                 financial_situation  \\\n",
       "0  I can afford food and regular expenses, but no...   \n",
       "1          I cannot afford enough food for my family   \n",
       "2  I can comfortably afford food, clothes, and fu...   \n",
       "3                I can afford food, but nothing else   \n",
       "4  I can afford food and regular expenses, but no...   \n",
       "\n",
       "                                education  \\\n",
       "0  University or college degree completed   \n",
       "1  University or college degree completed   \n",
       "2  University or college degree completed   \n",
       "3  University or college degree completed   \n",
       "4  University or college degree completed   \n",
       "\n",
       "                                   employment_status submission_state  \\\n",
       "0                                    I am unemployed          Miranda   \n",
       "1                                    I am unemployed          Miranda   \n",
       "2  I work full-time, either as an employee or sel...          Miranda   \n",
       "3  I work full-time, either as an employee or sel...          Miranda   \n",
       "4                                    I am unemployed          Miranda   \n",
       "\n",
       "   financial_situation_label  \n",
       "0                          0  \n",
       "1                          5  \n",
       "2                          3  \n",
       "3                          1  \n",
       "4                          0  "
      ]
     },
     "execution_count": 56,
     "metadata": {},
     "output_type": "execute_result"
    }
   ],
   "source": [
    "df.head()"
   ]
  },
  {
   "cell_type": "code",
   "execution_count": 57,
   "id": "806a7341",
   "metadata": {},
   "outputs": [],
   "source": [
    "import matplotlib.pyplot as plt\n",
    "import numpy as np"
   ]
  },
  {
   "cell_type": "code",
   "execution_count": 58,
   "id": "068c8281",
   "metadata": {},
   "outputs": [],
   "source": [
    "geo_data = df.loc[df['geography'] == 'Suburban/Peri-urban']\n",
    "\n"
   ]
  },
  {
   "cell_type": "code",
   "execution_count": 60,
   "id": "0276a912",
   "metadata": {},
   "outputs": [
    {
     "data": {
      "text/html": [
       "<div>\n",
       "<style scoped>\n",
       "    .dataframe tbody tr th:only-of-type {\n",
       "        vertical-align: middle;\n",
       "    }\n",
       "\n",
       "    .dataframe tbody tr th {\n",
       "        vertical-align: top;\n",
       "    }\n",
       "\n",
       "    .dataframe thead th {\n",
       "        text-align: right;\n",
       "    }\n",
       "</style>\n",
       "<table border=\"1\" class=\"dataframe\">\n",
       "  <thead>\n",
       "    <tr style=\"text-align: right;\">\n",
       "      <th></th>\n",
       "      <th>gender</th>\n",
       "      <th>age</th>\n",
       "      <th>geography</th>\n",
       "      <th>financial_situation</th>\n",
       "      <th>education</th>\n",
       "      <th>employment_status</th>\n",
       "      <th>submission_state</th>\n",
       "      <th>financial_situation_label</th>\n",
       "    </tr>\n",
       "  </thead>\n",
       "  <tbody>\n",
       "    <tr>\n",
       "      <th>0</th>\n",
       "      <td>Female</td>\n",
       "      <td>Over 45 years old</td>\n",
       "      <td>Suburban/Peri-urban</td>\n",
       "      <td>I can afford food and regular expenses, but no...</td>\n",
       "      <td>University or college degree completed</td>\n",
       "      <td>I am unemployed</td>\n",
       "      <td>Miranda</td>\n",
       "      <td>0</td>\n",
       "    </tr>\n",
       "    <tr>\n",
       "      <th>1</th>\n",
       "      <td>Male</td>\n",
       "      <td>26 to 35 years old</td>\n",
       "      <td>Suburban/Peri-urban</td>\n",
       "      <td>I cannot afford enough food for my family</td>\n",
       "      <td>University or college degree completed</td>\n",
       "      <td>I am unemployed</td>\n",
       "      <td>Miranda</td>\n",
       "      <td>5</td>\n",
       "    </tr>\n",
       "    <tr>\n",
       "      <th>3</th>\n",
       "      <td>Male</td>\n",
       "      <td>36 to 45 years old</td>\n",
       "      <td>Suburban/Peri-urban</td>\n",
       "      <td>I can afford food, but nothing else</td>\n",
       "      <td>University or college degree completed</td>\n",
       "      <td>I work full-time, either as an employee or sel...</td>\n",
       "      <td>Miranda</td>\n",
       "      <td>1</td>\n",
       "    </tr>\n",
       "    <tr>\n",
       "      <th>4</th>\n",
       "      <td>Female</td>\n",
       "      <td>Over 45 years old</td>\n",
       "      <td>Suburban/Peri-urban</td>\n",
       "      <td>I can afford food and regular expenses, but no...</td>\n",
       "      <td>University or college degree completed</td>\n",
       "      <td>I am unemployed</td>\n",
       "      <td>Miranda</td>\n",
       "      <td>0</td>\n",
       "    </tr>\n",
       "    <tr>\n",
       "      <th>7</th>\n",
       "      <td>Female</td>\n",
       "      <td>Over 45 years old</td>\n",
       "      <td>Suburban/Peri-urban</td>\n",
       "      <td>I cannot afford enough food for my family</td>\n",
       "      <td>Technical school diploma or degree completed</td>\n",
       "      <td>I work part-time, either as an employee or sel...</td>\n",
       "      <td>Miranda</td>\n",
       "      <td>5</td>\n",
       "    </tr>\n",
       "  </tbody>\n",
       "</table>\n",
       "</div>"
      ],
      "text/plain": [
       "   gender                 age            geography  \\\n",
       "0  Female   Over 45 years old  Suburban/Peri-urban   \n",
       "1    Male  26 to 35 years old  Suburban/Peri-urban   \n",
       "3    Male  36 to 45 years old  Suburban/Peri-urban   \n",
       "4  Female   Over 45 years old  Suburban/Peri-urban   \n",
       "7  Female   Over 45 years old  Suburban/Peri-urban   \n",
       "\n",
       "                                 financial_situation  \\\n",
       "0  I can afford food and regular expenses, but no...   \n",
       "1          I cannot afford enough food for my family   \n",
       "3                I can afford food, but nothing else   \n",
       "4  I can afford food and regular expenses, but no...   \n",
       "7          I cannot afford enough food for my family   \n",
       "\n",
       "                                      education  \\\n",
       "0        University or college degree completed   \n",
       "1        University or college degree completed   \n",
       "3        University or college degree completed   \n",
       "4        University or college degree completed   \n",
       "7  Technical school diploma or degree completed   \n",
       "\n",
       "                                   employment_status submission_state  \\\n",
       "0                                    I am unemployed          Miranda   \n",
       "1                                    I am unemployed          Miranda   \n",
       "3  I work full-time, either as an employee or sel...          Miranda   \n",
       "4                                    I am unemployed          Miranda   \n",
       "7  I work part-time, either as an employee or sel...          Miranda   \n",
       "\n",
       "   financial_situation_label  \n",
       "0                          0  \n",
       "1                          5  \n",
       "3                          1  \n",
       "4                          0  \n",
       "7                          5  "
      ]
     },
     "execution_count": 60,
     "metadata": {},
     "output_type": "execute_result"
    }
   ],
   "source": [
    "geo_data.head()"
   ]
  },
  {
   "cell_type": "code",
   "execution_count": 66,
   "id": "8a81b96f",
   "metadata": {},
   "outputs": [
    {
     "data": {
      "text/plain": [
       "education                                        \n",
       "University or college degree completed               403\n",
       "Secondary school/ high school completed              346\n",
       "Technical school diploma or degree completed         199\n",
       "Some university or college                           132\n",
       "Some technical education (e.g polytechnic school)     88\n",
       "Post-graduate education                               71\n",
       "Some secondary school / high school                   71\n",
       "Primary school completed                              34\n",
       "Prefer not to answer                                  12\n",
       "Some primary education                                11\n",
       "No formal education                                    4\n",
       "Post graduate                                          1\n",
       "Secondary/high school                                  1\n",
       "Technical school                                       1\n",
       "dtype: int64"
      ]
     },
     "execution_count": 66,
     "metadata": {},
     "output_type": "execute_result"
    }
   ],
   "source": [
    "geo_data = geo_data[['education']]\n",
    "geo_data.value_counts()"
   ]
  },
  {
   "cell_type": "code",
   "execution_count": 65,
   "id": "648e2a0e",
   "metadata": {},
   "outputs": [
    {
     "data": {
      "image/png": "[encoded data removed]",
      "text/plain": [
       "<Figure size 640x480 with 1 Axes>"
      ]
     },
     "metadata": {},
     "output_type": "display_data"
    }
   ],
   "source": [
    "plt.pie(geo_data.value_counts())\n",
    "plt.show() "
   ]
  },
  {
   "cell_type": "code",
   "execution_count": 67,
   "id": "2b922373",
   "metadata": {},
   "outputs": [],
   "source": [
    "labels = ['University or college degree completed','Secondary school/ high school completed','Technical school diploma or degree completed','Some university or college','Some technical education (e.g polytechnic school)','Post-graduate education','Some secondary school / high school','Primary school completed','Prefer not to answer','Some primary education','No formal education','Post graduate','Secondary/high school','Technical school']"
   ]
  },
  {
   "cell_type": "code",
   "execution_count": 86,
   "metadata": {},
   "outputs": [
    {
     "data": {
      "image/png": "[encoded data removed]",
      "text/plain": [
       "<Figure size 640x480 with 1 Axes>"
      ]
     },
     "metadata": {},
     "output_type": "display_data"
    },
    {
     "data": {
      "text/plain": [
       "Text(3, 8, 'random')"
      ]
     },
     "execution_count": 86,
     "metadata": {},
     "output_type": "execute_result"
    }
   ],
   "source": [
    "from matplotlib.pyplot import legend\n",
    "\n",
    "\n",
    "plt.pie(geo_data.value_counts())\n",
    "plt.legend(labels, loc=\"best\",prop={'size': 5},)\n",
    "plt.tight_layout()\n",
    "plt.show()"
   ]
  },
  {
   "cell_type": "code",
   "execution_count": 87,
   "id": "562f5935",
   "metadata": {},
   "outputs": [
    {
     "data": {
      "text/plain": [
       "array(['Suburban/Peri-urban', 'City center or metropolitan area', 'Rural',\n",
       "       'Not Available'], dtype=object)"
      ]
     },
     "execution_count": 87,
     "metadata": {},
     "output_type": "execute_result"
    }
   ],
   "source": [
    "df['geography'].unique()"
   ]
  },
  {
   "cell_type": "code",
   "execution_count": 88,
   "id": "6a4bcc17",
   "metadata": {},
   "outputs": [
    {
     "data": {
      "image/png": "[encoded data removed]",
      "text/plain": [
       "<Figure size 640x480 with 1 Axes>"
      ]
     },
     "metadata": {},
     "output_type": "display_data"
    }
   ],
   "source": [
    "geo_data = df.loc[df['geography'] == 'City center or metropolitan area']\n",
    "geo_data = geo_data[['education']]\n",
    "plt.pie(geo_data.value_counts())\n",
    "plt.legend(labels, loc=\"best\",prop={'size': 5},)\n",
    "plt.tight_layout()\n",
    "plt.show()"
   ]
  },
  {
   "cell_type": "code",
   "execution_count": 89,
   "id": "72b8ad53",
   "metadata": {},
   "outputs": [
    {
     "data": {
      "image/png": "[encoded data removed]",
      "text/plain": [
       "<Figure size 640x480 with 1 Axes>"
      ]
     },
     "metadata": {},
     "output_type": "display_data"
    }
   ],
   "source": [
    "geo_data = df.loc[df['geography'] == 'Rural']\n",
    "geo_data = geo_data[['education']]\n",
    "plt.pie(geo_data.value_counts())\n",
    "plt.legend(labels, loc=\"best\",prop={'size': 5},)\n",
    "plt.tight_layout()\n",
    "plt.show()"
   ]
  }
 ],
 "metadata": {
  "kernelspec": {
   "display_name": "Python 3.10.6 ('06_Aspire-Intelligence-1-': venv)",
   "language": "python",
   "name": "python3"
  },
  "language_info": {
   "codemirror_mode": {
    "name": "ipython",
    "version": 3
   },
   "file_extension": ".py",
   "mimetype": "text/x-python",
   "name": "python",
   "nbconvert_exporter": "python",
   "pygments_lexer": "ipython3",
   "version": "3.10.6"
  },
  "vscode": {
   "interpreter": {
    "hash": "6f4a05a1895508bd81354744926f6083bc2072227c29ef7653a64310bfa3e749"
   }
  }
 },
 "nbformat": 4,
 "nbformat_minor": 5
}
